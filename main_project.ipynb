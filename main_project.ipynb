{
  "cells": [
    {
      "cell_type": "markdown",
      "metadata": {
        "papermill": {
          "duration": 0.026943,
          "end_time": "2020-12-11T03:31:51.129184",
          "exception": false,
          "start_time": "2020-12-11T03:31:51.102241",
          "status": "completed"
        },
        "tags": [],
        "id": "9DUc-XB_h2g4"
      },
      "source": [
        " **HEART DISEASE ANALYSIS** "
      ]
    },
    {
      "cell_type": "markdown",
      "metadata": {
        "papermill": {
          "duration": 0.023267,
          "end_time": "2020-12-11T03:31:51.177448",
          "exception": false,
          "start_time": "2020-12-11T03:31:51.154181",
          "status": "completed"
        },
        "tags": [],
        "id": "5j3um47lh2g-"
      },
      "source": [
        "## **About Heart Disease**\n",
        "\n",
        "> Cardiovascular disease or heart disease describes a range of conditions that affect your heart. Diseases under the heart disease umbrella include blood vessel diseases, such as coronary artery disease. From WHO statistics every year 17.9 million dying from heart disease. The medical study says that human life style is the main reason behind this heart problem. Apart from this there are many key factors which warns that the person may/may not getting chance of heart disease.\n",
        "\n",
        "\n",
        "> From the dataset we will create suitable machine learning technique which classify the heart disease more accurately, it is very helpful to the health organisation as well as patients. "
      ]
    },
    {
      "cell_type": "markdown",
      "metadata": {
        "papermill": {
          "duration": 0.023238,
          "end_time": "2020-12-11T03:31:51.319392",
          "exception": false,
          "start_time": "2020-12-11T03:31:51.296154",
          "status": "completed"
        },
        "tags": [],
        "id": "pGWTTQPzh2hD"
      },
      "source": [
        "#**Packages and dataset description**"
      ]
    },
    {
      "cell_type": "markdown",
      "metadata": {
        "papermill": {
          "duration": 0.02368,
          "end_time": "2020-12-11T03:31:51.225094",
          "exception": false,
          "start_time": "2020-12-11T03:31:51.201414",
          "status": "completed"
        },
        "tags": [],
        "id": "c28YJ606h2hA"
      },
      "source": [
        "## **About the Data set**\n",
        "> This dataset gives the information realated to heart disease. Dataset contain 13 columns, target is the class variable which is affected by other 12 columns. Here the aim is to classify the target variable to (disease\\non disease) using different machine learning algorithm and findout which algorithm suitable for this dataset.\n",
        "\n",
        "> **Attribute Information**\n",
        "> * Age (age in years)\n",
        "> * Sex (1 = male; 0 = female)\n",
        "> * CP (chest pain type)\n",
        "> * TRESTBPS (resting blood pressure (in mm Hg on admission to the hospital))\n",
        "> * CHOL (serum cholestoral in mg/dl)\n",
        "> * FPS (fasting blood sugar > 120 mg/dl) (1 = true; 0 = false)\n",
        "> * RESTECH (resting electrocardiographic results)\n",
        "> * THALACH (maximum heart rate achieved)\n",
        "> * EXANG (exercise induced angina (1 = yes; 0 = no))\n",
        "> * OLDPEAK (ST depression induced by exercise relative to rest)\n",
        "> * SLOPE (the slope of the peak exercise ST segment)\n",
        "> * CA (number of major vessels (0-3) colored by flourosopy)\n",
        "> * THAL (3 = normal; 6 = fixed defect; 7 = reversable defect)\n",
        "> * TARGET (1 or 0)"
      ]
    },
    {
      "cell_type": "code",
      "execution_count": null,
      "metadata": {
        "execution": {
          "iopub.execute_input": "2020-12-11T03:31:51.383924Z",
          "iopub.status.busy": "2020-12-11T03:31:51.381244Z",
          "iopub.status.idle": "2020-12-11T03:31:55.003384Z",
          "shell.execute_reply": "2020-12-11T03:31:55.002244Z"
        },
        "papermill": {
          "duration": 3.659744,
          "end_time": "2020-12-11T03:31:55.003569",
          "exception": false,
          "start_time": "2020-12-11T03:31:51.343825",
          "status": "completed"
        },
        "tags": [],
        "id": "LdQDCQ3Xh2hE"
      },
      "outputs": [],
      "source": [
        "#loading dataset\n",
        "import pandas as pd\n",
        "import numpy as np\n",
        "#visualisation\n",
        "import matplotlib.pyplot as plt\n",
        "%matplotlib inline\n",
        "import seaborn as sns\n",
        "#EDA\n",
        "from collections import Counter\n",
        "# data preprocessing\n",
        "from sklearn.preprocessing import StandardScaler\n",
        "from sklearn.preprocessing import minmax_scale\n",
        "# data splitting\n",
        "from sklearn.model_selection import train_test_split\n",
        "from sklearn.model_selection import KFold\n",
        "# data modeling\n",
        "from sklearn.metrics import confusion_matrix,accuracy_score,roc_curve,classification_report,recall_score\n",
        "from sklearn.metrics import f1_score\n",
        "from sklearn.metrics import precision_score\n",
        "from sklearn.linear_model import LogisticRegression\n",
        "from sklearn.naive_bayes import GaussianNB\n",
        "from xgboost import XGBClassifier\n",
        "from sklearn.ensemble import RandomForestClassifier\n",
        "from sklearn.tree import DecisionTreeClassifier\n",
        "from sklearn.neighbors import KNeighborsClassifier\n",
        "from sklearn.naive_bayes import GaussianNB\n",
        "from sklearn.svm import SVC\n",
        "from sklearn.ensemble import StackingClassifier\n",
        "from sklearn.svm import LinearSVC\n",
        "#warning\n",
        "import warnings\n",
        "warnings.filterwarnings('ignore')"
      ]
    },
    {
      "cell_type": "code",
      "execution_count": null,
      "metadata": {
        "_cell_guid": "79c7e3d0-c299-4dcb-8224-4455121ee9b0",
        "_uuid": "d629ff2d2480ee46fbb7e2d37f6b5fab8052498a",
        "execution": {
          "iopub.execute_input": "2020-12-11T03:31:55.074081Z",
          "iopub.status.busy": "2020-12-11T03:31:55.073215Z",
          "iopub.status.idle": "2020-12-11T03:31:55.112201Z",
          "shell.execute_reply": "2020-12-11T03:31:55.112835Z"
        },
        "papermill": {
          "duration": 0.084306,
          "end_time": "2020-12-11T03:31:55.113016",
          "exception": false,
          "start_time": "2020-12-11T03:31:55.028710",
          "status": "completed"
        },
        "tags": [],
        "colab": {
          "base_uri": "https://localhost:8080/"
        },
        "id": "pfrePQVTh2hI",
        "outputId": "cd51d4de-f8bb-470d-9885-40286ae613af"
      },
      "outputs": [
        {
          "output_type": "execute_result",
          "data": {
            "text/plain": [
              "   age  sex  cp  trestbps  chol  fbs  restecg  thalach  exang  oldpeak  slope  \\\n",
              "0   52    1   0       125   212    0        1      168      0      1.0      2   \n",
              "1   53    1   0       140   203    1        0      155      1      3.1      0   \n",
              "2   70    1   0       145   174    0        1      125      1      2.6      0   \n",
              "3   61    1   0       148   203    0        1      161      0      0.0      2   \n",
              "4   62    0   0       138   294    1        1      106      0      1.9      1   \n",
              "\n",
              "   ca  thal  target  \n",
              "0   2     3       0  \n",
              "1   0     3       0  \n",
              "2   0     3       0  \n",
              "3   1     3       0  \n",
              "4   3     2       0  "
            ],
            "text/html": [
              "\n",
              "  <div id=\"df-306cfa0f-4063-4be1-a703-6c6c20497694\">\n",
              "    <div class=\"colab-df-container\">\n",
              "      <div>\n",
              "<style scoped>\n",
              "    .dataframe tbody tr th:only-of-type {\n",
              "        vertical-align: middle;\n",
              "    }\n",
              "\n",
              "    .dataframe tbody tr th {\n",
              "        vertical-align: top;\n",
              "    }\n",
              "\n",
              "    .dataframe thead th {\n",
              "        text-align: right;\n",
              "    }\n",
              "</style>\n",
              "<table border=\"1\" class=\"dataframe\">\n",
              "  <thead>\n",
              "    <tr style=\"text-align: right;\">\n",
              "      <th></th>\n",
              "      <th>age</th>\n",
              "      <th>sex</th>\n",
              "      <th>cp</th>\n",
              "      <th>trestbps</th>\n",
              "      <th>chol</th>\n",
              "      <th>fbs</th>\n",
              "      <th>restecg</th>\n",
              "      <th>thalach</th>\n",
              "      <th>exang</th>\n",
              "      <th>oldpeak</th>\n",
              "      <th>slope</th>\n",
              "      <th>ca</th>\n",
              "      <th>thal</th>\n",
              "      <th>target</th>\n",
              "    </tr>\n",
              "  </thead>\n",
              "  <tbody>\n",
              "    <tr>\n",
              "      <th>0</th>\n",
              "      <td>52</td>\n",
              "      <td>1</td>\n",
              "      <td>0</td>\n",
              "      <td>125</td>\n",
              "      <td>212</td>\n",
              "      <td>0</td>\n",
              "      <td>1</td>\n",
              "      <td>168</td>\n",
              "      <td>0</td>\n",
              "      <td>1.0</td>\n",
              "      <td>2</td>\n",
              "      <td>2</td>\n",
              "      <td>3</td>\n",
              "      <td>0</td>\n",
              "    </tr>\n",
              "    <tr>\n",
              "      <th>1</th>\n",
              "      <td>53</td>\n",
              "      <td>1</td>\n",
              "      <td>0</td>\n",
              "      <td>140</td>\n",
              "      <td>203</td>\n",
              "      <td>1</td>\n",
              "      <td>0</td>\n",
              "      <td>155</td>\n",
              "      <td>1</td>\n",
              "      <td>3.1</td>\n",
              "      <td>0</td>\n",
              "      <td>0</td>\n",
              "      <td>3</td>\n",
              "      <td>0</td>\n",
              "    </tr>\n",
              "    <tr>\n",
              "      <th>2</th>\n",
              "      <td>70</td>\n",
              "      <td>1</td>\n",
              "      <td>0</td>\n",
              "      <td>145</td>\n",
              "      <td>174</td>\n",
              "      <td>0</td>\n",
              "      <td>1</td>\n",
              "      <td>125</td>\n",
              "      <td>1</td>\n",
              "      <td>2.6</td>\n",
              "      <td>0</td>\n",
              "      <td>0</td>\n",
              "      <td>3</td>\n",
              "      <td>0</td>\n",
              "    </tr>\n",
              "    <tr>\n",
              "      <th>3</th>\n",
              "      <td>61</td>\n",
              "      <td>1</td>\n",
              "      <td>0</td>\n",
              "      <td>148</td>\n",
              "      <td>203</td>\n",
              "      <td>0</td>\n",
              "      <td>1</td>\n",
              "      <td>161</td>\n",
              "      <td>0</td>\n",
              "      <td>0.0</td>\n",
              "      <td>2</td>\n",
              "      <td>1</td>\n",
              "      <td>3</td>\n",
              "      <td>0</td>\n",
              "    </tr>\n",
              "    <tr>\n",
              "      <th>4</th>\n",
              "      <td>62</td>\n",
              "      <td>0</td>\n",
              "      <td>0</td>\n",
              "      <td>138</td>\n",
              "      <td>294</td>\n",
              "      <td>1</td>\n",
              "      <td>1</td>\n",
              "      <td>106</td>\n",
              "      <td>0</td>\n",
              "      <td>1.9</td>\n",
              "      <td>1</td>\n",
              "      <td>3</td>\n",
              "      <td>2</td>\n",
              "      <td>0</td>\n",
              "    </tr>\n",
              "  </tbody>\n",
              "</table>\n",
              "</div>\n",
              "      <button class=\"colab-df-convert\" onclick=\"convertToInteractive('df-306cfa0f-4063-4be1-a703-6c6c20497694')\"\n",
              "              title=\"Convert this dataframe to an interactive table.\"\n",
              "              style=\"display:none;\">\n",
              "        \n",
              "  <svg xmlns=\"http://www.w3.org/2000/svg\" height=\"24px\"viewBox=\"0 0 24 24\"\n",
              "       width=\"24px\">\n",
              "    <path d=\"M0 0h24v24H0V0z\" fill=\"none\"/>\n",
              "    <path d=\"M18.56 5.44l.94 2.06.94-2.06 2.06-.94-2.06-.94-.94-2.06-.94 2.06-2.06.94zm-11 1L8.5 8.5l.94-2.06 2.06-.94-2.06-.94L8.5 2.5l-.94 2.06-2.06.94zm10 10l.94 2.06.94-2.06 2.06-.94-2.06-.94-.94-2.06-.94 2.06-2.06.94z\"/><path d=\"M17.41 7.96l-1.37-1.37c-.4-.4-.92-.59-1.43-.59-.52 0-1.04.2-1.43.59L10.3 9.45l-7.72 7.72c-.78.78-.78 2.05 0 2.83L4 21.41c.39.39.9.59 1.41.59.51 0 1.02-.2 1.41-.59l7.78-7.78 2.81-2.81c.8-.78.8-2.07 0-2.86zM5.41 20L4 18.59l7.72-7.72 1.47 1.35L5.41 20z\"/>\n",
              "  </svg>\n",
              "      </button>\n",
              "      \n",
              "  <style>\n",
              "    .colab-df-container {\n",
              "      display:flex;\n",
              "      flex-wrap:wrap;\n",
              "      gap: 12px;\n",
              "    }\n",
              "\n",
              "    .colab-df-convert {\n",
              "      background-color: #E8F0FE;\n",
              "      border: none;\n",
              "      border-radius: 50%;\n",
              "      cursor: pointer;\n",
              "      display: none;\n",
              "      fill: #1967D2;\n",
              "      height: 32px;\n",
              "      padding: 0 0 0 0;\n",
              "      width: 32px;\n",
              "    }\n",
              "\n",
              "    .colab-df-convert:hover {\n",
              "      background-color: #E2EBFA;\n",
              "      box-shadow: 0px 1px 2px rgba(60, 64, 67, 0.3), 0px 1px 3px 1px rgba(60, 64, 67, 0.15);\n",
              "      fill: #174EA6;\n",
              "    }\n",
              "\n",
              "    [theme=dark] .colab-df-convert {\n",
              "      background-color: #3B4455;\n",
              "      fill: #D2E3FC;\n",
              "    }\n",
              "\n",
              "    [theme=dark] .colab-df-convert:hover {\n",
              "      background-color: #434B5C;\n",
              "      box-shadow: 0px 1px 3px 1px rgba(0, 0, 0, 0.15);\n",
              "      filter: drop-shadow(0px 1px 2px rgba(0, 0, 0, 0.3));\n",
              "      fill: #FFFFFF;\n",
              "    }\n",
              "  </style>\n",
              "\n",
              "      <script>\n",
              "        const buttonEl =\n",
              "          document.querySelector('#df-306cfa0f-4063-4be1-a703-6c6c20497694 button.colab-df-convert');\n",
              "        buttonEl.style.display =\n",
              "          google.colab.kernel.accessAllowed ? 'block' : 'none';\n",
              "\n",
              "        async function convertToInteractive(key) {\n",
              "          const element = document.querySelector('#df-306cfa0f-4063-4be1-a703-6c6c20497694');\n",
              "          const dataTable =\n",
              "            await google.colab.kernel.invokeFunction('convertToInteractive',\n",
              "                                                     [key], {});\n",
              "          if (!dataTable) return;\n",
              "\n",
              "          const docLinkHtml = 'Like what you see? Visit the ' +\n",
              "            '<a target=\"_blank\" href=https://colab.research.google.com/notebooks/data_table.ipynb>data table notebook</a>'\n",
              "            + ' to learn more about interactive tables.';\n",
              "          element.innerHTML = '';\n",
              "          dataTable['output_type'] = 'display_data';\n",
              "          await google.colab.output.renderOutput(dataTable, element);\n",
              "          const docLink = document.createElement('div');\n",
              "          docLink.innerHTML = docLinkHtml;\n",
              "          element.appendChild(docLink);\n",
              "        }\n",
              "      </script>\n",
              "    </div>\n",
              "  </div>\n",
              "  "
            ]
          },
          "metadata": {},
          "execution_count": 1408
        }
      ],
      "source": [
        "data = pd.read_csv('heart.csv')\n",
        "data.head()"
      ]
    },
    {
      "cell_type": "code",
      "source": [
        "data.shape\n"
      ],
      "metadata": {
        "colab": {
          "base_uri": "https://localhost:8080/"
        },
        "id": "n5tn9Ge0I__A",
        "outputId": "bc8ef8d5-b16c-4e8b-8abc-db4c57c21d22"
      },
      "execution_count": null,
      "outputs": [
        {
          "output_type": "execute_result",
          "data": {
            "text/plain": [
              "(1025, 14)"
            ]
          },
          "metadata": {},
          "execution_count": 1409
        }
      ]
    },
    {
      "cell_type": "code",
      "execution_count": null,
      "metadata": {
        "execution": {
          "iopub.execute_input": "2020-12-11T03:31:55.187977Z",
          "iopub.status.busy": "2020-12-11T03:31:55.182700Z",
          "iopub.status.idle": "2020-12-11T03:31:55.205942Z",
          "shell.execute_reply": "2020-12-11T03:31:55.205197Z"
        },
        "papermill": {
          "duration": 0.066446,
          "end_time": "2020-12-11T03:31:55.206102",
          "exception": false,
          "start_time": "2020-12-11T03:31:55.139656",
          "status": "completed"
        },
        "tags": [],
        "colab": {
          "base_uri": "https://localhost:8080/"
        },
        "id": "2ZS5-p3Bh2hL",
        "outputId": "35fa601d-11c6-4261-f3e4-776439cc2110"
      },
      "outputs": [
        {
          "output_type": "stream",
          "name": "stdout",
          "text": [
            "<class 'pandas.core.frame.DataFrame'>\n",
            "RangeIndex: 1025 entries, 0 to 1024\n",
            "Data columns (total 14 columns):\n",
            " #   Column    Non-Null Count  Dtype  \n",
            "---  ------    --------------  -----  \n",
            " 0   age       1025 non-null   int64  \n",
            " 1   sex       1025 non-null   int64  \n",
            " 2   cp        1025 non-null   int64  \n",
            " 3   trestbps  1025 non-null   int64  \n",
            " 4   chol      1025 non-null   int64  \n",
            " 5   fbs       1025 non-null   int64  \n",
            " 6   restecg   1025 non-null   int64  \n",
            " 7   thalach   1025 non-null   int64  \n",
            " 8   exang     1025 non-null   int64  \n",
            " 9   oldpeak   1025 non-null   float64\n",
            " 10  slope     1025 non-null   int64  \n",
            " 11  ca        1025 non-null   int64  \n",
            " 12  thal      1025 non-null   int64  \n",
            " 13  target    1025 non-null   int64  \n",
            "dtypes: float64(1), int64(13)\n",
            "memory usage: 112.2 KB\n"
          ]
        }
      ],
      "source": [
        "data.info()"
      ]
    },
    {
      "cell_type": "markdown",
      "metadata": {
        "papermill": {
          "duration": 0.029017,
          "end_time": "2020-12-11T03:31:55.267778",
          "exception": false,
          "start_time": "2020-12-11T03:31:55.238761",
          "status": "completed"
        },
        "tags": [],
        "id": "nMZzZL52h2hM"
      },
      "source": [
        "### **Missing Value Detection**"
      ]
    },
    {
      "cell_type": "code",
      "execution_count": null,
      "metadata": {
        "execution": {
          "iopub.execute_input": "2020-12-11T03:31:55.347133Z",
          "iopub.status.busy": "2020-12-11T03:31:55.346172Z",
          "iopub.status.idle": "2020-12-11T03:31:55.351411Z",
          "shell.execute_reply": "2020-12-11T03:31:55.350699Z"
        },
        "papermill": {
          "duration": 0.046825,
          "end_time": "2020-12-11T03:31:55.351539",
          "exception": false,
          "start_time": "2020-12-11T03:31:55.304714",
          "status": "completed"
        },
        "tags": [],
        "colab": {
          "base_uri": "https://localhost:8080/"
        },
        "id": "9F2-hrjCh2hN",
        "outputId": "c40f0bf2-bf42-4ab2-a601-c9711d7287e3"
      },
      "outputs": [
        {
          "output_type": "execute_result",
          "data": {
            "text/plain": [
              "age         0\n",
              "sex         0\n",
              "cp          0\n",
              "trestbps    0\n",
              "chol        0\n",
              "fbs         0\n",
              "restecg     0\n",
              "thalach     0\n",
              "exang       0\n",
              "oldpeak     0\n",
              "slope       0\n",
              "ca          0\n",
              "thal        0\n",
              "target      0\n",
              "dtype: int64"
            ]
          },
          "metadata": {},
          "execution_count": 1411
        }
      ],
      "source": [
        "data.isnull().sum()"
      ]
    },
    {
      "cell_type": "markdown",
      "metadata": {
        "papermill": {
          "duration": 0.026595,
          "end_time": "2020-12-11T03:31:55.405201",
          "exception": false,
          "start_time": "2020-12-11T03:31:55.378606",
          "status": "completed"
        },
        "tags": [],
        "id": "hwcgScVbh2hO"
      },
      "source": [
        "### **Descriptive statistics**"
      ]
    },
    {
      "cell_type": "code",
      "execution_count": null,
      "metadata": {
        "execution": {
          "iopub.execute_input": "2020-12-11T03:31:55.476200Z",
          "iopub.status.busy": "2020-12-11T03:31:55.475299Z",
          "iopub.status.idle": "2020-12-11T03:31:55.536881Z",
          "shell.execute_reply": "2020-12-11T03:31:55.536197Z"
        },
        "papermill": {
          "duration": 0.105649,
          "end_time": "2020-12-11T03:31:55.537024",
          "exception": false,
          "start_time": "2020-12-11T03:31:55.431375",
          "status": "completed"
        },
        "tags": [],
        "colab": {
          "base_uri": "https://localhost:8080/"
        },
        "id": "231Y57h4h2hP",
        "outputId": "0d4f9df2-2e62-4be6-d52c-b4cf255e8b84"
      },
      "outputs": [
        {
          "output_type": "execute_result",
          "data": {
            "text/plain": [
              "               age          sex           cp     trestbps        chol  \\\n",
              "count  1025.000000  1025.000000  1025.000000  1025.000000  1025.00000   \n",
              "mean     54.434146     0.695610     0.942439   131.611707   246.00000   \n",
              "std       9.072290     0.460373     1.029641    17.516718    51.59251   \n",
              "min      29.000000     0.000000     0.000000    94.000000   126.00000   \n",
              "25%      48.000000     0.000000     0.000000   120.000000   211.00000   \n",
              "50%      56.000000     1.000000     1.000000   130.000000   240.00000   \n",
              "75%      61.000000     1.000000     2.000000   140.000000   275.00000   \n",
              "max      77.000000     1.000000     3.000000   200.000000   564.00000   \n",
              "\n",
              "               fbs      restecg      thalach        exang      oldpeak  \\\n",
              "count  1025.000000  1025.000000  1025.000000  1025.000000  1025.000000   \n",
              "mean      0.149268     0.529756   149.114146     0.336585     1.071512   \n",
              "std       0.356527     0.527878    23.005724     0.472772     1.175053   \n",
              "min       0.000000     0.000000    71.000000     0.000000     0.000000   \n",
              "25%       0.000000     0.000000   132.000000     0.000000     0.000000   \n",
              "50%       0.000000     1.000000   152.000000     0.000000     0.800000   \n",
              "75%       0.000000     1.000000   166.000000     1.000000     1.800000   \n",
              "max       1.000000     2.000000   202.000000     1.000000     6.200000   \n",
              "\n",
              "             slope           ca         thal       target  \n",
              "count  1025.000000  1025.000000  1025.000000  1025.000000  \n",
              "mean      1.385366     0.754146     2.323902     0.513171  \n",
              "std       0.617755     1.030798     0.620660     0.500070  \n",
              "min       0.000000     0.000000     0.000000     0.000000  \n",
              "25%       1.000000     0.000000     2.000000     0.000000  \n",
              "50%       1.000000     0.000000     2.000000     1.000000  \n",
              "75%       2.000000     1.000000     3.000000     1.000000  \n",
              "max       2.000000     4.000000     3.000000     1.000000  "
            ],
            "text/html": [
              "\n",
              "  <div id=\"df-4707e930-3c3f-4931-9fda-a3565ceda070\">\n",
              "    <div class=\"colab-df-container\">\n",
              "      <div>\n",
              "<style scoped>\n",
              "    .dataframe tbody tr th:only-of-type {\n",
              "        vertical-align: middle;\n",
              "    }\n",
              "\n",
              "    .dataframe tbody tr th {\n",
              "        vertical-align: top;\n",
              "    }\n",
              "\n",
              "    .dataframe thead th {\n",
              "        text-align: right;\n",
              "    }\n",
              "</style>\n",
              "<table border=\"1\" class=\"dataframe\">\n",
              "  <thead>\n",
              "    <tr style=\"text-align: right;\">\n",
              "      <th></th>\n",
              "      <th>age</th>\n",
              "      <th>sex</th>\n",
              "      <th>cp</th>\n",
              "      <th>trestbps</th>\n",
              "      <th>chol</th>\n",
              "      <th>fbs</th>\n",
              "      <th>restecg</th>\n",
              "      <th>thalach</th>\n",
              "      <th>exang</th>\n",
              "      <th>oldpeak</th>\n",
              "      <th>slope</th>\n",
              "      <th>ca</th>\n",
              "      <th>thal</th>\n",
              "      <th>target</th>\n",
              "    </tr>\n",
              "  </thead>\n",
              "  <tbody>\n",
              "    <tr>\n",
              "      <th>count</th>\n",
              "      <td>1025.000000</td>\n",
              "      <td>1025.000000</td>\n",
              "      <td>1025.000000</td>\n",
              "      <td>1025.000000</td>\n",
              "      <td>1025.00000</td>\n",
              "      <td>1025.000000</td>\n",
              "      <td>1025.000000</td>\n",
              "      <td>1025.000000</td>\n",
              "      <td>1025.000000</td>\n",
              "      <td>1025.000000</td>\n",
              "      <td>1025.000000</td>\n",
              "      <td>1025.000000</td>\n",
              "      <td>1025.000000</td>\n",
              "      <td>1025.000000</td>\n",
              "    </tr>\n",
              "    <tr>\n",
              "      <th>mean</th>\n",
              "      <td>54.434146</td>\n",
              "      <td>0.695610</td>\n",
              "      <td>0.942439</td>\n",
              "      <td>131.611707</td>\n",
              "      <td>246.00000</td>\n",
              "      <td>0.149268</td>\n",
              "      <td>0.529756</td>\n",
              "      <td>149.114146</td>\n",
              "      <td>0.336585</td>\n",
              "      <td>1.071512</td>\n",
              "      <td>1.385366</td>\n",
              "      <td>0.754146</td>\n",
              "      <td>2.323902</td>\n",
              "      <td>0.513171</td>\n",
              "    </tr>\n",
              "    <tr>\n",
              "      <th>std</th>\n",
              "      <td>9.072290</td>\n",
              "      <td>0.460373</td>\n",
              "      <td>1.029641</td>\n",
              "      <td>17.516718</td>\n",
              "      <td>51.59251</td>\n",
              "      <td>0.356527</td>\n",
              "      <td>0.527878</td>\n",
              "      <td>23.005724</td>\n",
              "      <td>0.472772</td>\n",
              "      <td>1.175053</td>\n",
              "      <td>0.617755</td>\n",
              "      <td>1.030798</td>\n",
              "      <td>0.620660</td>\n",
              "      <td>0.500070</td>\n",
              "    </tr>\n",
              "    <tr>\n",
              "      <th>min</th>\n",
              "      <td>29.000000</td>\n",
              "      <td>0.000000</td>\n",
              "      <td>0.000000</td>\n",
              "      <td>94.000000</td>\n",
              "      <td>126.00000</td>\n",
              "      <td>0.000000</td>\n",
              "      <td>0.000000</td>\n",
              "      <td>71.000000</td>\n",
              "      <td>0.000000</td>\n",
              "      <td>0.000000</td>\n",
              "      <td>0.000000</td>\n",
              "      <td>0.000000</td>\n",
              "      <td>0.000000</td>\n",
              "      <td>0.000000</td>\n",
              "    </tr>\n",
              "    <tr>\n",
              "      <th>25%</th>\n",
              "      <td>48.000000</td>\n",
              "      <td>0.000000</td>\n",
              "      <td>0.000000</td>\n",
              "      <td>120.000000</td>\n",
              "      <td>211.00000</td>\n",
              "      <td>0.000000</td>\n",
              "      <td>0.000000</td>\n",
              "      <td>132.000000</td>\n",
              "      <td>0.000000</td>\n",
              "      <td>0.000000</td>\n",
              "      <td>1.000000</td>\n",
              "      <td>0.000000</td>\n",
              "      <td>2.000000</td>\n",
              "      <td>0.000000</td>\n",
              "    </tr>\n",
              "    <tr>\n",
              "      <th>50%</th>\n",
              "      <td>56.000000</td>\n",
              "      <td>1.000000</td>\n",
              "      <td>1.000000</td>\n",
              "      <td>130.000000</td>\n",
              "      <td>240.00000</td>\n",
              "      <td>0.000000</td>\n",
              "      <td>1.000000</td>\n",
              "      <td>152.000000</td>\n",
              "      <td>0.000000</td>\n",
              "      <td>0.800000</td>\n",
              "      <td>1.000000</td>\n",
              "      <td>0.000000</td>\n",
              "      <td>2.000000</td>\n",
              "      <td>1.000000</td>\n",
              "    </tr>\n",
              "    <tr>\n",
              "      <th>75%</th>\n",
              "      <td>61.000000</td>\n",
              "      <td>1.000000</td>\n",
              "      <td>2.000000</td>\n",
              "      <td>140.000000</td>\n",
              "      <td>275.00000</td>\n",
              "      <td>0.000000</td>\n",
              "      <td>1.000000</td>\n",
              "      <td>166.000000</td>\n",
              "      <td>1.000000</td>\n",
              "      <td>1.800000</td>\n",
              "      <td>2.000000</td>\n",
              "      <td>1.000000</td>\n",
              "      <td>3.000000</td>\n",
              "      <td>1.000000</td>\n",
              "    </tr>\n",
              "    <tr>\n",
              "      <th>max</th>\n",
              "      <td>77.000000</td>\n",
              "      <td>1.000000</td>\n",
              "      <td>3.000000</td>\n",
              "      <td>200.000000</td>\n",
              "      <td>564.00000</td>\n",
              "      <td>1.000000</td>\n",
              "      <td>2.000000</td>\n",
              "      <td>202.000000</td>\n",
              "      <td>1.000000</td>\n",
              "      <td>6.200000</td>\n",
              "      <td>2.000000</td>\n",
              "      <td>4.000000</td>\n",
              "      <td>3.000000</td>\n",
              "      <td>1.000000</td>\n",
              "    </tr>\n",
              "  </tbody>\n",
              "</table>\n",
              "</div>\n",
              "      <button class=\"colab-df-convert\" onclick=\"convertToInteractive('df-4707e930-3c3f-4931-9fda-a3565ceda070')\"\n",
              "              title=\"Convert this dataframe to an interactive table.\"\n",
              "              style=\"display:none;\">\n",
              "        \n",
              "  <svg xmlns=\"http://www.w3.org/2000/svg\" height=\"24px\"viewBox=\"0 0 24 24\"\n",
              "       width=\"24px\">\n",
              "    <path d=\"M0 0h24v24H0V0z\" fill=\"none\"/>\n",
              "    <path d=\"M18.56 5.44l.94 2.06.94-2.06 2.06-.94-2.06-.94-.94-2.06-.94 2.06-2.06.94zm-11 1L8.5 8.5l.94-2.06 2.06-.94-2.06-.94L8.5 2.5l-.94 2.06-2.06.94zm10 10l.94 2.06.94-2.06 2.06-.94-2.06-.94-.94-2.06-.94 2.06-2.06.94z\"/><path d=\"M17.41 7.96l-1.37-1.37c-.4-.4-.92-.59-1.43-.59-.52 0-1.04.2-1.43.59L10.3 9.45l-7.72 7.72c-.78.78-.78 2.05 0 2.83L4 21.41c.39.39.9.59 1.41.59.51 0 1.02-.2 1.41-.59l7.78-7.78 2.81-2.81c.8-.78.8-2.07 0-2.86zM5.41 20L4 18.59l7.72-7.72 1.47 1.35L5.41 20z\"/>\n",
              "  </svg>\n",
              "      </button>\n",
              "      \n",
              "  <style>\n",
              "    .colab-df-container {\n",
              "      display:flex;\n",
              "      flex-wrap:wrap;\n",
              "      gap: 12px;\n",
              "    }\n",
              "\n",
              "    .colab-df-convert {\n",
              "      background-color: #E8F0FE;\n",
              "      border: none;\n",
              "      border-radius: 50%;\n",
              "      cursor: pointer;\n",
              "      display: none;\n",
              "      fill: #1967D2;\n",
              "      height: 32px;\n",
              "      padding: 0 0 0 0;\n",
              "      width: 32px;\n",
              "    }\n",
              "\n",
              "    .colab-df-convert:hover {\n",
              "      background-color: #E2EBFA;\n",
              "      box-shadow: 0px 1px 2px rgba(60, 64, 67, 0.3), 0px 1px 3px 1px rgba(60, 64, 67, 0.15);\n",
              "      fill: #174EA6;\n",
              "    }\n",
              "\n",
              "    [theme=dark] .colab-df-convert {\n",
              "      background-color: #3B4455;\n",
              "      fill: #D2E3FC;\n",
              "    }\n",
              "\n",
              "    [theme=dark] .colab-df-convert:hover {\n",
              "      background-color: #434B5C;\n",
              "      box-shadow: 0px 1px 3px 1px rgba(0, 0, 0, 0.15);\n",
              "      filter: drop-shadow(0px 1px 2px rgba(0, 0, 0, 0.3));\n",
              "      fill: #FFFFFF;\n",
              "    }\n",
              "  </style>\n",
              "\n",
              "      <script>\n",
              "        const buttonEl =\n",
              "          document.querySelector('#df-4707e930-3c3f-4931-9fda-a3565ceda070 button.colab-df-convert');\n",
              "        buttonEl.style.display =\n",
              "          google.colab.kernel.accessAllowed ? 'block' : 'none';\n",
              "\n",
              "        async function convertToInteractive(key) {\n",
              "          const element = document.querySelector('#df-4707e930-3c3f-4931-9fda-a3565ceda070');\n",
              "          const dataTable =\n",
              "            await google.colab.kernel.invokeFunction('convertToInteractive',\n",
              "                                                     [key], {});\n",
              "          if (!dataTable) return;\n",
              "\n",
              "          const docLinkHtml = 'Like what you see? Visit the ' +\n",
              "            '<a target=\"_blank\" href=https://colab.research.google.com/notebooks/data_table.ipynb>data table notebook</a>'\n",
              "            + ' to learn more about interactive tables.';\n",
              "          element.innerHTML = '';\n",
              "          dataTable['output_type'] = 'display_data';\n",
              "          await google.colab.output.renderOutput(dataTable, element);\n",
              "          const docLink = document.createElement('div');\n",
              "          docLink.innerHTML = docLinkHtml;\n",
              "          element.appendChild(docLink);\n",
              "        }\n",
              "      </script>\n",
              "    </div>\n",
              "  </div>\n",
              "  "
            ]
          },
          "metadata": {},
          "execution_count": 1412
        }
      ],
      "source": [
        "data.describe()"
      ]
    },
    {
      "cell_type": "markdown",
      "metadata": {
        "papermill": {
          "duration": 0.026543,
          "end_time": "2020-12-11T03:31:55.590824",
          "exception": false,
          "start_time": "2020-12-11T03:31:55.564281",
          "status": "completed"
        },
        "tags": [],
        "id": "7NGQ4ciCh2hQ"
      },
      "source": [
        "## **EDA**"
      ]
    },
    {
      "cell_type": "code",
      "source": [
        "fig = data.target.value_counts().plot(kind = 'bar', color=[\"lightblue\", 'lightgreen'])\n",
        "fig.set_xticklabels(labels=['Has heart disease', \"Doesn't have heart disease\"], rotation=0);\n",
        "plt.title(\"Heart Disease values\")\n",
        "plt.ylabel(\"Number of people\");"
      ],
      "metadata": {
        "colab": {
          "base_uri": "https://localhost:8080/"
        },
        "id": "eFQzFD04FnGL",
        "outputId": "a9bebd4c-e850-49b5-ad4a-0a93cc8c587d"
      },
      "execution_count": null,
      "outputs": [
        {
          "output_type": "display_data",
          "data": {
            "text/plain": [
              "<Figure size 432x288 with 1 Axes>"
            ],
            "image/png": "[encoded data removed]"
          },
          "metadata": {
            "needs_background": "light"
          }
        }
      ]
    },
    {
      "cell_type": "code",
      "source": [
        "labels = 'Male', 'Female'\n",
        "explode = (0, 0)\n",
        "\n",
        "fig1, ax1 = plt.subplots()\n",
        "ax1.pie(data.sex.value_counts(), explode=explode, labels=labels, autopct='%1.1f%%',\n",
        "        shadow=True, startangle=90)\n",
        "ax1.axis('equal')\n",
        "plt.show()"
      ],
      "metadata": {
        "colab": {
          "base_uri": "https://localhost:8080/"
        },
        "id": "hou2KreTG5NG",
        "outputId": "994d7fee-4ecc-48ed-efa3-07fbee077a64"
      },
      "execution_count": null,
      "outputs": [
        {
          "output_type": "display_data",
          "data": {
            "text/plain": [
              "<Figure size 432x288 with 1 Axes>"
            ],
            "image/png": "[encoded data removed]"
          },
          "metadata": {}
        }
      ]
    },
    {
      "cell_type": "code",
      "source": [
        "fig = sns.countplot(x = 'target', data = data, hue = 'sex')\n",
        "fig.set_xticklabels(labels=[\"Doesn't have heart disease\", 'Has heart disease'], rotation=0)\n",
        "plt.legend(['Female', 'Male'])\n",
        "plt.title(\"Heart Disease Frequency for Sex\");"
      ],
      "metadata": {
        "colab": {
          "base_uri": "https://localhost:8080/"
        },
        "id": "Jfioa66AHAQ0",
        "outputId": "ae3e5a60-7fca-4060-996c-2d6b6fcef787"
      },
      "execution_count": null,
      "outputs": [
        {
          "output_type": "display_data",
          "data": {
            "text/plain": [
              "<Figure size 432x288 with 1 Axes>"
            ],
            "image/png": "[encoded data removed]"
          },
          "metadata": {
            "needs_background": "light"
          }
        }
      ]
    },
    {
      "cell_type": "code",
      "source": [
        "fig = data.cp.value_counts().plot(kind = 'bar', color = ['salmon', 'lightskyblue', 'springgreen', 'khaki'])\n",
        "fig.set_xticklabels(labels=['pain type 0', 'pain type 1', 'pain type 2', 'pain type 3'], rotation=0)\n",
        "\n",
        "plt.title('Chest pain type vs count');"
      ],
      "metadata": {
        "colab": {
          "base_uri": "https://localhost:8080/"
        },
        "id": "NZg7Lf8gHMY_",
        "outputId": "54ff0e1f-6dbc-4357-8f4f-bf73f3aaead7"
      },
      "execution_count": null,
      "outputs": [
        {
          "output_type": "display_data",
          "data": {
            "text/plain": [
              "<Figure size 432x288 with 1 Axes>"
            ],
            "image/png": "[encoded data removed]"
          },
          "metadata": {
            "needs_background": "light"
          }
        }
      ]
    },
    {
      "cell_type": "code",
      "source": [
        "fig = sns.countplot(x = 'cp', data = data, hue = 'target')\n",
        "fig.set_xticklabels(labels=['pain type 0', 'pain type 1', 'pain type 2', 'pain type 3'], rotation=0)\n",
        "plt.legend(['No disease', 'disease']);"
      ],
      "metadata": {
        "colab": {
          "base_uri": "https://localhost:8080/"
        },
        "id": "z47zQK4CHXRs",
        "outputId": "a1eaf7d0-393c-4e4f-f550-d8412321d7a4"
      },
      "execution_count": null,
      "outputs": [
        {
          "output_type": "display_data",
          "data": {
            "text/plain": [
              "<Figure size 432x288 with 1 Axes>"
            ],
            "image/png": "[encoded data removed]"
          },
          "metadata": {
            "needs_background": "light"
          }
        }
      ]
    },
    {
      "cell_type": "code",
      "source": [
        "plt.figure(figsize=(10,6))\n",
        "\n",
        "#plotting the values for people who have heart disease\n",
        "plt.scatter(data.age[data.target==1], \n",
        "            data.thalach[data.target==1], \n",
        "            c=\"tomato\")\n",
        "\n",
        "#plotting the values for people who doesn't have heart disease\n",
        "plt.scatter(data.age[data.target==0], \n",
        "            data.thalach[data.target==0], \n",
        "            c=\"lightgreen\")\n",
        "\n",
        "# Addind info\n",
        "plt.title(\"Heart Disease w.r.t Age and Max Heart Rate\")\n",
        "plt.xlabel(\"Age\")\n",
        "plt.legend([\"Disease\", \"No Disease\"])\n",
        "plt.ylabel(\"Max Heart Rate\");"
      ],
      "metadata": {
        "colab": {
          "base_uri": "https://localhost:8080/"
        },
        "id": "mlhiUEMbHnhC",
        "outputId": "e289455a-51ec-4f55-9c0e-0720cd333653"
      },
      "execution_count": null,
      "outputs": [
        {
          "output_type": "display_data",
          "data": {
            "text/plain": [
              "<Figure size 720x432 with 1 Axes>"
            ],
            "image/png": "[encoded data removed]"
          },
          "metadata": {
            "needs_background": "light"
          }
        }
      ]
    },
    {
      "cell_type": "code",
      "source": [
        "df=data\n",
        "# Creating another figure\n",
        "plt.figure(figsize=(10,6))\n",
        "\n",
        "#plotting the values for people who have heart disease\n",
        "plt.scatter(df.age[df.target==1], \n",
        "            df.chol[df.target==1], \n",
        "            c=\"salmon\") # define it as a scatter figure\n",
        "\n",
        "#plotting the values for people who doesn't have heart disease\n",
        "plt.scatter(df.age[df.target==0], \n",
        "            df.chol[df.target==0], \n",
        "            c=\"lightblue\") # axis always come as (x, y)\n",
        "\n",
        "# Add some helpful info\n",
        "plt.title(\"Heart Disease w.r.t Age and Serum Cholestoral\")\n",
        "plt.xlabel(\"Age\")\n",
        "plt.legend([\"Disease\", \"No Disease\"])\n",
        "plt.ylabel(\"Serum cholestoral\");"
      ],
      "metadata": {
        "colab": {
          "base_uri": "https://localhost:8080/"
        },
        "id": "c8-tGGSiIQq_",
        "outputId": "394dbb99-1384-46c8-c6f2-1a6ae3fb918b"
      },
      "execution_count": null,
      "outputs": [
        {
          "output_type": "display_data",
          "data": {
            "text/plain": [
              "<Figure size 720x432 with 1 Axes>"
            ],
            "image/png": "[encoded data removed]"
          },
          "metadata": {
            "needs_background": "light"
          }
        }
      ]
    },
    {
      "cell_type": "code",
      "source": [
        "plt.figure(figsize = (15,15))\n",
        "sns.heatmap(df.corr(), vmin = -1, vmax = +1, annot = True, cmap = 'coolwarm')\n",
        "plt.show()"
      ],
      "metadata": {
        "colab": {
          "base_uri": "https://localhost:8080/"
        },
        "id": "jnZViXtMIDRC",
        "outputId": "8e5c2c84-d30b-4496-f733-ef5518a7b2d9"
      },
      "execution_count": null,
      "outputs": [
        {
          "output_type": "display_data",
          "data": {
            "text/plain": [
              "<Figure size 1080x1080 with 2 Axes>"
            ],
            "image/png": "[encoded data removed]"
          },
          "metadata": {
            "needs_background": "light"
          }
        }
      ]
    },
    {
      "cell_type": "markdown",
      "source": [
        "#**DATA PRE-PROCESSING**"
      ],
      "metadata": {
        "id": "MlyIhzisDp1Z"
      }
    },
    {
      "cell_type": "markdown",
      "source": [
        "**Dataset into dependent and independent features**"
      ],
      "metadata": {
        "id": "9DImCG9p7LYP"
      }
    },
    {
      "cell_type": "code",
      "execution_count": null,
      "metadata": {
        "execution": {
          "iopub.execute_input": "2020-12-11T03:32:18.641874Z",
          "iopub.status.busy": "2020-12-11T03:32:18.641084Z",
          "iopub.status.idle": "2020-12-11T03:32:18.644773Z",
          "shell.execute_reply": "2020-12-11T03:32:18.643985Z"
        },
        "papermill": {
          "duration": 0.175986,
          "end_time": "2020-12-11T03:32:18.644942",
          "exception": false,
          "start_time": "2020-12-11T03:32:18.468956",
          "status": "completed"
        },
        "tags": [],
        "id": "iTOVPuarh2hS"
      },
      "outputs": [],
      "source": [
        "y = data[\"target\"]\n",
        "X = data.drop('target',axis=1)\n"
      ]
    },
    {
      "cell_type": "markdown",
      "source": [
        "**STANDARDIZATION OF INDEPENDENT VARIABLES**"
      ],
      "metadata": {
        "id": "iBudvXAZ7-_C"
      }
    },
    {
      "cell_type": "code",
      "source": [
        "cols=X.columns\n",
        "for col in cols:\n",
        "   X[col]=minmax_scale(X[col])\n",
        "X"
      ],
      "metadata": {
        "id": "vnr2A7Sa7rgs",
        "colab": {
          "base_uri": "https://localhost:8080/"
        },
        "outputId": "82bbe577-136f-4559-a1b9-7b39047aedbd"
      },
      "execution_count": null,
      "outputs": [
        {
          "output_type": "execute_result",
          "data": {
            "text/plain": [
              "           age  sex        cp  trestbps      chol  fbs  restecg   thalach  \\\n",
              "0     0.479167  1.0  0.000000  0.292453  0.196347  0.0      0.5  0.740458   \n",
              "1     0.500000  1.0  0.000000  0.433962  0.175799  1.0      0.0  0.641221   \n",
              "2     0.854167  1.0  0.000000  0.481132  0.109589  0.0      0.5  0.412214   \n",
              "3     0.666667  1.0  0.000000  0.509434  0.175799  0.0      0.5  0.687023   \n",
              "4     0.687500  0.0  0.000000  0.415094  0.383562  1.0      0.5  0.267176   \n",
              "...        ...  ...       ...       ...       ...  ...      ...       ...   \n",
              "1020  0.625000  1.0  0.333333  0.433962  0.216895  0.0      0.5  0.709924   \n",
              "1021  0.645833  1.0  0.000000  0.292453  0.301370  0.0      0.0  0.534351   \n",
              "1022  0.375000  1.0  0.000000  0.150943  0.340183  0.0      0.0  0.358779   \n",
              "1023  0.437500  0.0  0.000000  0.150943  0.292237  0.0      0.0  0.671756   \n",
              "1024  0.520833  1.0  0.000000  0.245283  0.141553  0.0      0.5  0.320611   \n",
              "\n",
              "      exang   oldpeak  slope    ca      thal  \n",
              "0       0.0  0.161290    1.0  0.50  1.000000  \n",
              "1       1.0  0.500000    0.0  0.00  1.000000  \n",
              "2       1.0  0.419355    0.0  0.00  1.000000  \n",
              "3       0.0  0.000000    1.0  0.25  1.000000  \n",
              "4       0.0  0.306452    0.5  0.75  0.666667  \n",
              "...     ...       ...    ...   ...       ...  \n",
              "1020    1.0  0.000000    1.0  0.00  0.666667  \n",
              "1021    1.0  0.451613    0.5  0.25  1.000000  \n",
              "1022    1.0  0.161290    0.5  0.25  0.666667  \n",
              "1023    0.0  0.000000    1.0  0.00  0.666667  \n",
              "1024    0.0  0.225806    0.5  0.25  1.000000  \n",
              "\n",
              "[1025 rows x 13 columns]"
            ],
            "text/html": [
              "\n",
              "  <div id=\"df-2720ec3f-157d-496f-87be-b6123eae6ec3\">\n",
              "    <div class=\"colab-df-container\">\n",
              "      <div>\n",
              "<style scoped>\n",
              "    .dataframe tbody tr th:only-of-type {\n",
              "        vertical-align: middle;\n",
              "    }\n",
              "\n",
              "    .dataframe tbody tr th {\n",
              "        vertical-align: top;\n",
              "    }\n",
              "\n",
              "    .dataframe thead th {\n",
              "        text-align: right;\n",
              "    }\n",
              "</style>\n",
              "<table border=\"1\" class=\"dataframe\">\n",
              "  <thead>\n",
              "    <tr style=\"text-align: right;\">\n",
              "      <th></th>\n",
              "      <th>age</th>\n",
              "      <th>sex</th>\n",
              "      <th>cp</th>\n",
              "      <th>trestbps</th>\n",
              "      <th>chol</th>\n",
              "      <th>fbs</th>\n",
              "      <th>restecg</th>\n",
              "      <th>thalach</th>\n",
              "      <th>exang</th>\n",
              "      <th>oldpeak</th>\n",
              "      <th>slope</th>\n",
              "      <th>ca</th>\n",
              "      <th>thal</th>\n",
              "    </tr>\n",
              "  </thead>\n",
              "  <tbody>\n",
              "    <tr>\n",
              "      <th>0</th>\n",
              "      <td>0.479167</td>\n",
              "      <td>1.0</td>\n",
              "      <td>0.000000</td>\n",
              "      <td>0.292453</td>\n",
              "      <td>0.196347</td>\n",
              "      <td>0.0</td>\n",
              "      <td>0.5</td>\n",
              "      <td>0.740458</td>\n",
              "      <td>0.0</td>\n",
              "      <td>0.161290</td>\n",
              "      <td>1.0</td>\n",
              "      <td>0.50</td>\n",
              "      <td>1.000000</td>\n",
              "    </tr>\n",
              "    <tr>\n",
              "      <th>1</th>\n",
              "      <td>0.500000</td>\n",
              "      <td>1.0</td>\n",
              "      <td>0.000000</td>\n",
              "      <td>0.433962</td>\n",
              "      <td>0.175799</td>\n",
              "      <td>1.0</td>\n",
              "      <td>0.0</td>\n",
              "      <td>0.641221</td>\n",
              "      <td>1.0</td>\n",
              "      <td>0.500000</td>\n",
              "      <td>0.0</td>\n",
              "      <td>0.00</td>\n",
              "      <td>1.000000</td>\n",
              "    </tr>\n",
              "    <tr>\n",
              "      <th>2</th>\n",
              "      <td>0.854167</td>\n",
              "      <td>1.0</td>\n",
              "      <td>0.000000</td>\n",
              "      <td>0.481132</td>\n",
              "      <td>0.109589</td>\n",
              "      <td>0.0</td>\n",
              "      <td>0.5</td>\n",
              "      <td>0.412214</td>\n",
              "      <td>1.0</td>\n",
              "      <td>0.419355</td>\n",
              "      <td>0.0</td>\n",
              "      <td>0.00</td>\n",
              "      <td>1.000000</td>\n",
              "    </tr>\n",
              "    <tr>\n",
              "      <th>3</th>\n",
              "      <td>0.666667</td>\n",
              "      <td>1.0</td>\n",
              "      <td>0.000000</td>\n",
              "      <td>0.509434</td>\n",
              "      <td>0.175799</td>\n",
              "      <td>0.0</td>\n",
              "      <td>0.5</td>\n",
              "      <td>0.687023</td>\n",
              "      <td>0.0</td>\n",
              "      <td>0.000000</td>\n",
              "      <td>1.0</td>\n",
              "      <td>0.25</td>\n",
              "      <td>1.000000</td>\n",
              "    </tr>\n",
              "    <tr>\n",
              "      <th>4</th>\n",
              "      <td>0.687500</td>\n",
              "      <td>0.0</td>\n",
              "      <td>0.000000</td>\n",
              "      <td>0.415094</td>\n",
              "      <td>0.383562</td>\n",
              "      <td>1.0</td>\n",
              "      <td>0.5</td>\n",
              "      <td>0.267176</td>\n",
              "      <td>0.0</td>\n",
              "      <td>0.306452</td>\n",
              "      <td>0.5</td>\n",
              "      <td>0.75</td>\n",
              "      <td>0.666667</td>\n",
              "    </tr>\n",
              "    <tr>\n",
              "      <th>...</th>\n",
              "      <td>...</td>\n",
              "      <td>...</td>\n",
              "      <td>...</td>\n",
              "      <td>...</td>\n",
              "      <td>...</td>\n",
              "      <td>...</td>\n",
              "      <td>...</td>\n",
              "      <td>...</td>\n",
              "      <td>...</td>\n",
              "      <td>...</td>\n",
              "      <td>...</td>\n",
              "      <td>...</td>\n",
              "      <td>...</td>\n",
              "    </tr>\n",
              "    <tr>\n",
              "      <th>1020</th>\n",
              "      <td>0.625000</td>\n",
              "      <td>1.0</td>\n",
              "      <td>0.333333</td>\n",
              "      <td>0.433962</td>\n",
              "      <td>0.216895</td>\n",
              "      <td>0.0</td>\n",
              "      <td>0.5</td>\n",
              "      <td>0.709924</td>\n",
              "      <td>1.0</td>\n",
              "      <td>0.000000</td>\n",
              "      <td>1.0</td>\n",
              "      <td>0.00</td>\n",
              "      <td>0.666667</td>\n",
              "    </tr>\n",
              "    <tr>\n",
              "      <th>1021</th>\n",
              "      <td>0.645833</td>\n",
              "      <td>1.0</td>\n",
              "      <td>0.000000</td>\n",
              "      <td>0.292453</td>\n",
              "      <td>0.301370</td>\n",
              "      <td>0.0</td>\n",
              "      <td>0.0</td>\n",
              "      <td>0.534351</td>\n",
              "      <td>1.0</td>\n",
              "      <td>0.451613</td>\n",
              "      <td>0.5</td>\n",
              "      <td>0.25</td>\n",
              "      <td>1.000000</td>\n",
              "    </tr>\n",
              "    <tr>\n",
              "      <th>1022</th>\n",
              "      <td>0.375000</td>\n",
              "      <td>1.0</td>\n",
              "      <td>0.000000</td>\n",
              "      <td>0.150943</td>\n",
              "      <td>0.340183</td>\n",
              "      <td>0.0</td>\n",
              "      <td>0.0</td>\n",
              "      <td>0.358779</td>\n",
              "      <td>1.0</td>\n",
              "      <td>0.161290</td>\n",
              "      <td>0.5</td>\n",
              "      <td>0.25</td>\n",
              "      <td>0.666667</td>\n",
              "    </tr>\n",
              "    <tr>\n",
              "      <th>1023</th>\n",
              "      <td>0.437500</td>\n",
              "      <td>0.0</td>\n",
              "      <td>0.000000</td>\n",
              "      <td>0.150943</td>\n",
              "      <td>0.292237</td>\n",
              "      <td>0.0</td>\n",
              "      <td>0.0</td>\n",
              "      <td>0.671756</td>\n",
              "      <td>0.0</td>\n",
              "      <td>0.000000</td>\n",
              "      <td>1.0</td>\n",
              "      <td>0.00</td>\n",
              "      <td>0.666667</td>\n",
              "    </tr>\n",
              "    <tr>\n",
              "      <th>1024</th>\n",
              "      <td>0.520833</td>\n",
              "      <td>1.0</td>\n",
              "      <td>0.000000</td>\n",
              "      <td>0.245283</td>\n",
              "      <td>0.141553</td>\n",
              "      <td>0.0</td>\n",
              "      <td>0.5</td>\n",
              "      <td>0.320611</td>\n",
              "      <td>0.0</td>\n",
              "      <td>0.225806</td>\n",
              "      <td>0.5</td>\n",
              "      <td>0.25</td>\n",
              "      <td>1.000000</td>\n",
              "    </tr>\n",
              "  </tbody>\n",
              "</table>\n",
              "<p>1025 rows × 13 columns</p>\n",
              "</div>\n",
              "      <button class=\"colab-df-convert\" onclick=\"convertToInteractive('df-2720ec3f-157d-496f-87be-b6123eae6ec3')\"\n",
              "              title=\"Convert this dataframe to an interactive table.\"\n",
              "              style=\"display:none;\">\n",
              "        \n",
              "  <svg xmlns=\"http://www.w3.org/2000/svg\" height=\"24px\"viewBox=\"0 0 24 24\"\n",
              "       width=\"24px\">\n",
              "    <path d=\"M0 0h24v24H0V0z\" fill=\"none\"/>\n",
              "    <path d=\"M18.56 5.44l.94 2.06.94-2.06 2.06-.94-2.06-.94-.94-2.06-.94 2.06-2.06.94zm-11 1L8.5 8.5l.94-2.06 2.06-.94-2.06-.94L8.5 2.5l-.94 2.06-2.06.94zm10 10l.94 2.06.94-2.06 2.06-.94-2.06-.94-.94-2.06-.94 2.06-2.06.94z\"/><path d=\"M17.41 7.96l-1.37-1.37c-.4-.4-.92-.59-1.43-.59-.52 0-1.04.2-1.43.59L10.3 9.45l-7.72 7.72c-.78.78-.78 2.05 0 2.83L4 21.41c.39.39.9.59 1.41.59.51 0 1.02-.2 1.41-.59l7.78-7.78 2.81-2.81c.8-.78.8-2.07 0-2.86zM5.41 20L4 18.59l7.72-7.72 1.47 1.35L5.41 20z\"/>\n",
              "  </svg>\n",
              "      </button>\n",
              "      \n",
              "  <style>\n",
              "    .colab-df-container {\n",
              "      display:flex;\n",
              "      flex-wrap:wrap;\n",
              "      gap: 12px;\n",
              "    }\n",
              "\n",
              "    .colab-df-convert {\n",
              "      background-color: #E8F0FE;\n",
              "      border: none;\n",
              "      border-radius: 50%;\n",
              "      cursor: pointer;\n",
              "      display: none;\n",
              "      fill: #1967D2;\n",
              "      height: 32px;\n",
              "      padding: 0 0 0 0;\n",
              "      width: 32px;\n",
              "    }\n",
              "\n",
              "    .colab-df-convert:hover {\n",
              "      background-color: #E2EBFA;\n",
              "      box-shadow: 0px 1px 2px rgba(60, 64, 67, 0.3), 0px 1px 3px 1px rgba(60, 64, 67, 0.15);\n",
              "      fill: #174EA6;\n",
              "    }\n",
              "\n",
              "    [theme=dark] .colab-df-convert {\n",
              "      background-color: #3B4455;\n",
              "      fill: #D2E3FC;\n",
              "    }\n",
              "\n",
              "    [theme=dark] .colab-df-convert:hover {\n",
              "      background-color: #434B5C;\n",
              "      box-shadow: 0px 1px 3px 1px rgba(0, 0, 0, 0.15);\n",
              "      filter: drop-shadow(0px 1px 2px rgba(0, 0, 0, 0.3));\n",
              "      fill: #FFFFFF;\n",
              "    }\n",
              "  </style>\n",
              "\n",
              "      <script>\n",
              "        const buttonEl =\n",
              "          document.querySelector('#df-2720ec3f-157d-496f-87be-b6123eae6ec3 button.colab-df-convert');\n",
              "        buttonEl.style.display =\n",
              "          google.colab.kernel.accessAllowed ? 'block' : 'none';\n",
              "\n",
              "        async function convertToInteractive(key) {\n",
              "          const element = document.querySelector('#df-2720ec3f-157d-496f-87be-b6123eae6ec3');\n",
              "          const dataTable =\n",
              "            await google.colab.kernel.invokeFunction('convertToInteractive',\n",
              "                                                     [key], {});\n",
              "          if (!dataTable) return;\n",
              "\n",
              "          const docLinkHtml = 'Like what you see? Visit the ' +\n",
              "            '<a target=\"_blank\" href=https://colab.research.google.com/notebooks/data_table.ipynb>data table notebook</a>'\n",
              "            + ' to learn more about interactive tables.';\n",
              "          element.innerHTML = '';\n",
              "          dataTable['output_type'] = 'display_data';\n",
              "          await google.colab.output.renderOutput(dataTable, element);\n",
              "          const docLink = document.createElement('div');\n",
              "          docLink.innerHTML = docLinkHtml;\n",
              "          element.appendChild(docLink);\n",
              "        }\n",
              "      </script>\n",
              "    </div>\n",
              "  </div>\n",
              "  "
            ]
          },
          "metadata": {},
          "execution_count": 1422
        }
      ]
    },
    {
      "cell_type": "markdown",
      "source": [
        "**DIVIDING DATASET INTO TESTING AND TRAINING**\n",
        "\n"
      ],
      "metadata": {
        "id": "Ze--vWyo7bto"
      }
    },
    {
      "cell_type": "code",
      "source": [
        "X_train, X_test, y_train, y_test = train_test_split(X, y, test_size=0.35, random_state =10)\n"
      ],
      "metadata": {
        "id": "KyyEI5HL7gmg"
      },
      "execution_count": null,
      "outputs": []
    },
    {
      "cell_type": "markdown",
      "source": [
        "**AS ALL DATA IS NUMERICAL AND NO CATEGORICAL DATA IS PRESENT WE WONT NEED TO NEED TO ENCODE CATEGORICAL DATA.**"
      ],
      "metadata": {
        "id": "ZXdDZVMNDwTy"
      }
    },
    {
      "cell_type": "markdown",
      "metadata": {
        "papermill": {
          "duration": 0.149344,
          "end_time": "2020-12-11T03:32:18.945832",
          "exception": false,
          "start_time": "2020-12-11T03:32:18.796488",
          "status": "completed"
        },
        "tags": [],
        "id": "7L0WUzVzh2hT"
      },
      "source": [
        "**Before applying algorithm we should check whether the training data is equally splitted or not, because if data is not splitted equally it will cause for data imbalacing problem**"
      ]
    },
    {
      "cell_type": "code",
      "execution_count": null,
      "metadata": {
        "execution": {
          "iopub.execute_input": "2020-12-11T03:32:19.257173Z",
          "iopub.status.busy": "2020-12-11T03:32:19.256029Z",
          "iopub.status.idle": "2020-12-11T03:32:19.261921Z",
          "shell.execute_reply": "2020-12-11T03:32:19.262569Z"
        },
        "papermill": {
          "duration": 0.163698,
          "end_time": "2020-12-11T03:32:19.262751",
          "exception": false,
          "start_time": "2020-12-11T03:32:19.099053",
          "status": "completed"
        },
        "tags": [],
        "colab": {
          "base_uri": "https://localhost:8080/"
        },
        "id": "osODc58uh2hT",
        "outputId": "ef72ee4b-3fa4-4c8a-e619-80fe307e6f11"
      },
      "outputs": [
        {
          "output_type": "execute_result",
          "data": {
            "text/plain": [
              "Counter({0: 322, 1: 344})"
            ]
          },
          "metadata": {},
          "execution_count": 1424
        }
      ],
      "source": [
        "Counter(y_train)"
      ]
    },
    {
      "cell_type": "markdown",
      "metadata": {
        "papermill": {
          "duration": 0.15478,
          "end_time": "2020-12-11T03:32:18.319931",
          "exception": false,
          "start_time": "2020-12-11T03:32:18.165151",
          "status": "completed"
        },
        "tags": [],
        "id": "r8pFa6skh2hR"
      },
      "source": [
        "# **Model prepration and evaluation**"
      ]
    },
    {
      "cell_type": "markdown",
      "metadata": {
        "papermill": {
          "duration": 0.149107,
          "end_time": "2020-12-11T03:32:19.563256",
          "exception": false,
          "start_time": "2020-12-11T03:32:19.414149",
          "status": "completed"
        },
        "tags": [],
        "id": "_iB5uJJBh2hU"
      },
      "source": [
        " **ML models**\n",
        "\n",
        "Here I take different machine learning algorithm and try to find algorithm which predict accurately.\n",
        "\n",
        "1. Logistic Regression\n",
        "2. Naive Bayes\n",
        "3. Random Forest Classifier\n",
        "4. Extreme Gradient Boost\n",
        "5. K-Nearest Neighbour\n",
        "6. Decision Tree\n",
        "7. Support Vector Machine\n",
        "8. Stacking classifier\n",
        "\n",
        "\n",
        "\n",
        "\n",
        "\n",
        "\n",
        "\n",
        "\n",
        "\n",
        "\n",
        "\n"
      ]
    },
    {
      "cell_type": "markdown",
      "source": [
        "**Logistic Regression**"
      ],
      "metadata": {
        "id": "wUHQcOYC63ui"
      }
    },
    {
      "cell_type": "code",
      "execution_count": null,
      "metadata": {
        "execution": {
          "iopub.execute_input": "2020-12-11T03:32:19.886758Z",
          "iopub.status.busy": "2020-12-11T03:32:19.884888Z",
          "iopub.status.idle": "2020-12-11T03:32:19.901527Z",
          "shell.execute_reply": "2020-12-11T03:32:19.902246Z"
        },
        "papermill": {
          "duration": 0.188422,
          "end_time": "2020-12-11T03:32:19.902449",
          "exception": false,
          "start_time": "2020-12-11T03:32:19.714027",
          "status": "completed"
        },
        "tags": [],
        "colab": {
          "base_uri": "https://localhost:8080/"
        },
        "id": "qyKQ64oOh2hV",
        "outputId": "5ec41acb-385d-4292-91ac-7afaa81c4ed8"
      },
      "outputs": [
        {
          "output_type": "stream",
          "name": "stdout",
          "text": [
            "confussion matrix\n",
            "[[141  36]\n",
            " [ 17 165]]\n",
            "\n",
            "\n",
            "Accuracy of Logistic Regression: 85.23676880222841 \n",
            "\n",
            "              precision    recall  f1-score   support\n",
            "\n",
            "           0       0.89      0.80      0.84       177\n",
            "           1       0.82      0.91      0.86       182\n",
            "\n",
            "    accuracy                           0.85       359\n",
            "   macro avg       0.86      0.85      0.85       359\n",
            "weighted avg       0.86      0.85      0.85       359\n",
            "\n"
          ]
        }
      ],
      "source": [
        "X_train, X_test, y_train, y_test = train_test_split(X, y, test_size=0.35, random_state =10)\n",
        "m1 = 'Logistic Regression'\n",
        "lr = LogisticRegression()\n",
        "model = lr.fit(X_train, y_train)\n",
        "lr_predict = lr.predict(X_test)\n",
        "lr_conf_matrix = confusion_matrix(y_test, lr_predict)\n",
        "lr_acc_score = accuracy_score(y_test, lr_predict)\n",
        "print(\"confussion matrix\")\n",
        "print(lr_conf_matrix)\n",
        "print(\"\\n\")\n",
        "print(\"Accuracy of Logistic Regression:\",lr_acc_score*100,'\\n')\n",
        "print(classification_report(y_test,lr_predict))"
      ]
    },
    {
      "cell_type": "markdown",
      "source": [
        "**Naive Bayes**\n"
      ],
      "metadata": {
        "id": "GAkMv6lh8Yyb"
      }
    },
    {
      "cell_type": "code",
      "execution_count": null,
      "metadata": {
        "execution": {
          "iopub.execute_input": "2020-12-11T03:32:20.215287Z",
          "iopub.status.busy": "2020-12-11T03:32:20.214390Z",
          "iopub.status.idle": "2020-12-11T03:32:20.232660Z",
          "shell.execute_reply": "2020-12-11T03:32:20.231564Z"
        },
        "papermill": {
          "duration": 0.178774,
          "end_time": "2020-12-11T03:32:20.232830",
          "exception": false,
          "start_time": "2020-12-11T03:32:20.054056",
          "status": "completed"
        },
        "tags": [],
        "colab": {
          "base_uri": "https://localhost:8080/"
        },
        "id": "vuDd7o6Th2hW",
        "outputId": "c88605c3-8920-45cb-e9b0-d549da6da60d"
      },
      "outputs": [
        {
          "output_type": "stream",
          "name": "stdout",
          "text": [
            "confussion matrix\n",
            "[[139  38]\n",
            " [ 25 157]]\n",
            "\n",
            "\n",
            "Accuracy of Naive Bayes model: 82.45125348189416 \n",
            "\n",
            "              precision    recall  f1-score   support\n",
            "\n",
            "           0       0.85      0.79      0.82       177\n",
            "           1       0.81      0.86      0.83       182\n",
            "\n",
            "    accuracy                           0.82       359\n",
            "   macro avg       0.83      0.82      0.82       359\n",
            "weighted avg       0.83      0.82      0.82       359\n",
            "\n"
          ]
        }
      ],
      "source": [
        "X_train, X_test, y_train, y_test = train_test_split(X, y, test_size=0.35, random_state =10)\n",
        "m2 = 'Naive Bayes'\n",
        "nb = GaussianNB()\n",
        "nb.fit(X_train,y_train)\n",
        "nbpred = nb.predict(X_test)\n",
        "nb_conf_matrix = confusion_matrix(y_test, nbpred)\n",
        "nb_acc_score = accuracy_score(y_test, nbpred)\n",
        "print(\"confussion matrix\")\n",
        "print(nb_conf_matrix)\n",
        "print(\"\\n\")\n",
        "print(\"Accuracy of Naive Bayes model:\",nb_acc_score*100,'\\n')\n",
        "print(classification_report(y_test,nbpred))"
      ]
    },
    {
      "cell_type": "markdown",
      "source": [
        "**Random Forest Classifier**"
      ],
      "metadata": {
        "id": "ghP4G2R28dLn"
      }
    },
    {
      "cell_type": "code",
      "execution_count": null,
      "metadata": {
        "execution": {
          "iopub.execute_input": "2020-12-11T03:32:20.554045Z",
          "iopub.status.busy": "2020-12-11T03:32:20.543678Z",
          "iopub.status.idle": "2020-12-11T03:32:20.612957Z",
          "shell.execute_reply": "2020-12-11T03:32:20.613663Z"
        },
        "papermill": {
          "duration": 0.229014,
          "end_time": "2020-12-11T03:32:20.613853",
          "exception": false,
          "start_time": "2020-12-11T03:32:20.384839",
          "status": "completed"
        },
        "tags": [],
        "colab": {
          "base_uri": "https://localhost:8080/"
        },
        "id": "nlVjAJwyh2hX",
        "outputId": "d7d635d0-a143-406e-9bc6-d3e81b29a6da"
      },
      "outputs": [
        {
          "output_type": "stream",
          "name": "stdout",
          "text": [
            "confussion matrix\n",
            "[[154  23]\n",
            " [ 15 167]]\n",
            "\n",
            "\n",
            "Accuracy of Random Forest: 89.41504178272982 \n",
            "\n",
            "              precision    recall  f1-score   support\n",
            "\n",
            "           0       0.91      0.87      0.89       177\n",
            "           1       0.88      0.92      0.90       182\n",
            "\n",
            "    accuracy                           0.89       359\n",
            "   macro avg       0.90      0.89      0.89       359\n",
            "weighted avg       0.89      0.89      0.89       359\n",
            "\n"
          ]
        }
      ],
      "source": [
        "X_train, X_test, y_train, y_test = train_test_split(X, y, test_size=0.35, random_state =10)\n",
        "m3 = 'Random Forest Classfier'\n",
        "rf = RandomForestClassifier(max_depth=5)\n",
        "rf.fit(X_train,y_train)\n",
        "rf_predicted = rf.predict(X_test)\n",
        "rf_conf_matrix = confusion_matrix(y_test, rf_predicted)\n",
        "rf_acc_score = accuracy_score(y_test, rf_predicted)\n",
        "print(\"confussion matrix\")\n",
        "print(rf_conf_matrix)\n",
        "print(\"\\n\")\n",
        "print(\"Accuracy of Random Forest:\",rf_acc_score*100,'\\n')\n",
        "print(classification_report(y_test,rf_predicted))"
      ]
    },
    {
      "cell_type": "markdown",
      "source": [
        "**XG Boost**"
      ],
      "metadata": {
        "id": "JsraLJjm8lH1"
      }
    },
    {
      "cell_type": "code",
      "execution_count": null,
      "metadata": {
        "execution": {
          "iopub.execute_input": "2020-12-11T03:32:20.929923Z",
          "iopub.status.busy": "2020-12-11T03:32:20.928909Z",
          "iopub.status.idle": "2020-12-11T03:32:20.987200Z",
          "shell.execute_reply": "2020-12-11T03:32:20.988106Z"
        },
        "papermill": {
          "duration": 0.222079,
          "end_time": "2020-12-11T03:32:20.988352",
          "exception": false,
          "start_time": "2020-12-11T03:32:20.766273",
          "status": "completed"
        },
        "tags": [],
        "colab": {
          "base_uri": "https://localhost:8080/"
        },
        "id": "ZtnmRwPsh2hY",
        "outputId": "06473f6c-e537-4e76-f7c8-ebd5cad7c056"
      },
      "outputs": [
        {
          "output_type": "stream",
          "name": "stdout",
          "text": [
            "confussion matrix\n",
            "[[167  10]\n",
            " [ 15 167]]\n",
            "\n",
            "\n",
            "Accuracy of Extreme Gradient Boost: 93.03621169916435 \n",
            "\n",
            "              precision    recall  f1-score   support\n",
            "\n",
            "           0       0.92      0.94      0.93       177\n",
            "           1       0.94      0.92      0.93       182\n",
            "\n",
            "    accuracy                           0.93       359\n",
            "   macro avg       0.93      0.93      0.93       359\n",
            "weighted avg       0.93      0.93      0.93       359\n",
            "\n"
          ]
        }
      ],
      "source": [
        "X_train, X_test, y_train, y_test = train_test_split(X, y, test_size=0.35, random_state =10)\n",
        "m4 = 'Extreme Gradient Boost'\n",
        "xgb = XGBClassifier()\n",
        "xgb.fit(X_train, y_train)\n",
        "xgb_predicted = xgb.predict(X_test)\n",
        "xgb_conf_matrix = confusion_matrix(y_test, xgb_predicted)\n",
        "xgb_acc_score = accuracy_score(y_test, xgb_predicted)\n",
        "print(\"confussion matrix\")\n",
        "print(xgb_conf_matrix)\n",
        "print(\"\\n\")\n",
        "print(\"Accuracy of Extreme Gradient Boost:\",xgb_acc_score*100,'\\n')\n",
        "print(classification_report(y_test,xgb_predicted))"
      ]
    },
    {
      "cell_type": "markdown",
      "source": [
        "**KNN**"
      ],
      "metadata": {
        "id": "qkzybpYF8pPq"
      }
    },
    {
      "cell_type": "code",
      "execution_count": null,
      "metadata": {
        "execution": {
          "iopub.execute_input": "2020-12-11T03:32:21.358733Z",
          "iopub.status.busy": "2020-12-11T03:32:21.357902Z",
          "iopub.status.idle": "2020-12-11T03:32:21.376638Z",
          "shell.execute_reply": "2020-12-11T03:32:21.375769Z"
        },
        "papermill": {
          "duration": 0.188796,
          "end_time": "2020-12-11T03:32:21.376787",
          "exception": false,
          "start_time": "2020-12-11T03:32:21.187991",
          "status": "completed"
        },
        "tags": [],
        "colab": {
          "base_uri": "https://localhost:8080/"
        },
        "id": "FQPRUfIVh2hZ",
        "outputId": "c3c621ec-1390-4d44-e66a-0b0a8eea644f"
      },
      "outputs": [
        {
          "output_type": "stream",
          "name": "stdout",
          "text": [
            "confussion matrix\n",
            "[[158  19]\n",
            " [ 28 154]]\n",
            "\n",
            "\n",
            "Accuracy of K-NeighborsClassifier: 86.90807799442896 \n",
            "\n",
            "              precision    recall  f1-score   support\n",
            "\n",
            "           0       0.85      0.89      0.87       177\n",
            "           1       0.89      0.85      0.87       182\n",
            "\n",
            "    accuracy                           0.87       359\n",
            "   macro avg       0.87      0.87      0.87       359\n",
            "weighted avg       0.87      0.87      0.87       359\n",
            "\n"
          ]
        }
      ],
      "source": [
        "X_train, X_test, y_train, y_test = train_test_split(X, y, test_size=0.35, random_state =10)\n",
        "m5 = 'K-NeighborsClassifier'\n",
        "knn = KNeighborsClassifier()\n",
        "knn.fit(X_train, y_train)\n",
        "knn_predicted = knn.predict(X_test)\n",
        "knn_conf_matrix = confusion_matrix(y_test, knn_predicted)\n",
        "knn_acc_score = accuracy_score(y_test, knn_predicted)\n",
        "print(\"confussion matrix\")\n",
        "print(knn_conf_matrix)\n",
        "print(\"\\n\")\n",
        "print(\"Accuracy of K-NeighborsClassifier:\",knn_acc_score*100,'\\n')\n",
        "print(classification_report(y_test,knn_predicted))"
      ]
    },
    {
      "cell_type": "markdown",
      "source": [
        "**Decision Tree**"
      ],
      "metadata": {
        "id": "7DLTjV-Q8sac"
      }
    },
    {
      "cell_type": "code",
      "execution_count": null,
      "metadata": {
        "execution": {
          "iopub.execute_input": "2020-12-11T03:32:21.697828Z",
          "iopub.status.busy": "2020-12-11T03:32:21.696975Z",
          "iopub.status.idle": "2020-12-11T03:32:21.714684Z",
          "shell.execute_reply": "2020-12-11T03:32:21.715348Z"
        },
        "papermill": {
          "duration": 0.183294,
          "end_time": "2020-12-11T03:32:21.715510",
          "exception": false,
          "start_time": "2020-12-11T03:32:21.532216",
          "status": "completed"
        },
        "tags": [],
        "colab": {
          "base_uri": "https://localhost:8080/"
        },
        "id": "BhfdAG4Lh2ha",
        "outputId": "15b91da2-0414-4478-cfe8-2ada7576eb1f"
      },
      "outputs": [
        {
          "output_type": "stream",
          "name": "stdout",
          "text": [
            "confussion matrix\n",
            "[[156  21]\n",
            " [ 16 166]]\n",
            "\n",
            "\n",
            "Accuracy of DecisionTreeClassifier: 89.69359331476323 \n",
            "\n",
            "              precision    recall  f1-score   support\n",
            "\n",
            "           0       0.91      0.88      0.89       177\n",
            "           1       0.89      0.91      0.90       182\n",
            "\n",
            "    accuracy                           0.90       359\n",
            "   macro avg       0.90      0.90      0.90       359\n",
            "weighted avg       0.90      0.90      0.90       359\n",
            "\n"
          ]
        }
      ],
      "source": [
        "X_train, X_test, y_train, y_test = train_test_split(X, y, test_size=0.35, random_state =10)\n",
        "m6 = 'DecisionTreeClassifier'\n",
        "dt = DecisionTreeClassifier(max_depth=5)\n",
        "dt.fit(X_train, y_train)\n",
        "dt_predicted = dt.predict(X_test)\n",
        "dt_conf_matrix = confusion_matrix(y_test, dt_predicted)\n",
        "dt_acc_score = accuracy_score(y_test, dt_predicted)\n",
        "print(\"confussion matrix\")\n",
        "print(dt_conf_matrix)\n",
        "print(\"\\n\")\n",
        "print(\"Accuracy of DecisionTreeClassifier:\",dt_acc_score*100,'\\n')\n",
        "print(classification_report(y_test,dt_predicted))"
      ]
    },
    {
      "cell_type": "markdown",
      "source": [
        "**Support Vector Classifier**"
      ],
      "metadata": {
        "id": "b55Kajmq8yvF"
      }
    },
    {
      "cell_type": "code",
      "execution_count": null,
      "metadata": {
        "execution": {
          "iopub.execute_input": "2020-12-11T03:32:22.042344Z",
          "iopub.status.busy": "2020-12-11T03:32:22.041504Z",
          "iopub.status.idle": "2020-12-11T03:32:22.061353Z",
          "shell.execute_reply": "2020-12-11T03:32:22.060636Z"
        },
        "papermill": {
          "duration": 0.189213,
          "end_time": "2020-12-11T03:32:22.061515",
          "exception": false,
          "start_time": "2020-12-11T03:32:21.872302",
          "status": "completed"
        },
        "tags": [],
        "colab": {
          "base_uri": "https://localhost:8080/"
        },
        "id": "TsfEW5UJh2hb",
        "outputId": "fa5b6cf5-c440-41dc-d1ce-46e100d987dc"
      },
      "outputs": [
        {
          "output_type": "stream",
          "name": "stdout",
          "text": [
            "confussion matrix\n",
            "[[154  23]\n",
            " [ 23 159]]\n",
            "\n",
            "\n",
            "Accuracy of Support Vector Classifier: 87.1866295264624 \n",
            "\n",
            "              precision    recall  f1-score   support\n",
            "\n",
            "           0       0.87      0.87      0.87       177\n",
            "           1       0.87      0.87      0.87       182\n",
            "\n",
            "    accuracy                           0.87       359\n",
            "   macro avg       0.87      0.87      0.87       359\n",
            "weighted avg       0.87      0.87      0.87       359\n",
            "\n"
          ]
        }
      ],
      "source": [
        "X_train, X_test, y_train, y_test = train_test_split(X, y, test_size=0.35, random_state =10)\n",
        "m7 = 'Support Vector Classifier'\n",
        "svc =  SVC()\n",
        "svc.fit(X_train, y_train)\n",
        "svc_predicted = svc.predict(X_test)\n",
        "svc_conf_matrix = confusion_matrix(y_test, svc_predicted)\n",
        "svc_acc_score = accuracy_score(y_test, svc_predicted)\n",
        "print(\"confussion matrix\")\n",
        "print(svc_conf_matrix)\n",
        "print(\"\\n\")\n",
        "print(\"Accuracy of Support Vector Classifier:\",svc_acc_score*100,'\\n')\n",
        "print(classification_report(y_test,svc_predicted))"
      ]
    },
    {
      "cell_type": "markdown",
      "source": [
        "**Stacking classifier**"
      ],
      "metadata": {
        "id": "wjU3QtdW86xZ"
      }
    },
    {
      "cell_type": "code",
      "execution_count": null,
      "metadata": {
        "execution": {
          "iopub.execute_input": "2020-12-11T03:32:25.370393Z",
          "iopub.status.busy": "2020-12-11T03:32:25.369420Z",
          "iopub.status.idle": "2020-12-11T03:32:25.467809Z",
          "shell.execute_reply": "2020-12-11T03:32:25.468803Z"
        },
        "papermill": {
          "duration": 0.268105,
          "end_time": "2020-12-11T03:32:25.469004",
          "exception": false,
          "start_time": "2020-12-11T03:32:25.200899",
          "status": "completed"
        },
        "tags": [],
        "colab": {
          "base_uri": "https://localhost:8080/"
        },
        "id": "LDcI7kObh2hf",
        "outputId": "c430717c-3916-4d4f-9a0a-081f92f67aba"
      },
      "outputs": [
        {
          "output_type": "stream",
          "name": "stdout",
          "text": [
            "confussion matrix\n",
            "[[159  18]\n",
            " [ 18 164]]\n",
            "\n",
            "\n",
            "Accuracy of StackingClassifier: 89.97214484679665 \n",
            "\n",
            "              precision    recall  f1-score   support\n",
            "\n",
            "           0       0.90      0.90      0.90       177\n",
            "           1       0.90      0.90      0.90       182\n",
            "\n",
            "    accuracy                           0.90       359\n",
            "   macro avg       0.90      0.90      0.90       359\n",
            "weighted avg       0.90      0.90      0.90       359\n",
            "\n"
          ]
        }
      ],
      "source": [
        "X_train, X_test, y_train, y_test = train_test_split(X, y, test_size=0.35, random_state =10)\n",
        "estimators = [('rf', RandomForestClassifier(max_depth=5)),('svr' ,LinearSVC())]\n",
        "scv = StackingClassifier(estimators=estimators, final_estimator=LogisticRegression())\n",
        "scv.fit(X_train,y_train)\n",
        "scv_predicted = scv.predict(X_test)\n",
        "scv_conf_matrix = confusion_matrix(y_test, scv_predicted)\n",
        "scv_acc_score = accuracy_score(y_test, scv_predicted)\n",
        "print(\"confussion matrix\")\n",
        "print(scv_conf_matrix)\n",
        "print(\"\\n\")\n",
        "print(\"Accuracy of StackingClassifier:\",scv_acc_score*100,'\\n')\n",
        "print(classification_report(y_test,scv_predicted))"
      ]
    },
    {
      "cell_type": "code",
      "execution_count": null,
      "metadata": {
        "execution": {
          "iopub.execute_input": "2020-12-11T03:32:23.114510Z",
          "iopub.status.busy": "2020-12-11T03:32:23.111204Z",
          "iopub.status.idle": "2020-12-11T03:32:23.509234Z",
          "shell.execute_reply": "2020-12-11T03:32:23.508593Z"
        },
        "papermill": {
          "duration": 0.581622,
          "end_time": "2020-12-11T03:32:23.509357",
          "exception": false,
          "start_time": "2020-12-11T03:32:22.927735",
          "status": "completed"
        },
        "tags": [],
        "colab": {
          "base_uri": "https://localhost:8080/",
          "height": 350
        },
        "id": "HWzP4_xdh2hc",
        "outputId": "de05b1ca-bd58-4802-dc45-290abf824ebb"
      },
      "outputs": [
        {
          "output_type": "display_data",
          "data": {
            "text/plain": [
              "<Figure size 720x360 with 1 Axes>"
            ],
            "image/png": "[encoded data removed]"
          },
          "metadata": {}
        }
      ],
      "source": [
        "lr_false_positive_rate,lr_true_positive_rate,lr_threshold = roc_curve(y_test,lr_predict)\n",
        "nb_false_positive_rate,nb_true_positive_rate,nb_threshold = roc_curve(y_test,nbpred)\n",
        "rf_false_positive_rate,rf_true_positive_rate,rf_threshold = roc_curve(y_test,rf_predicted)                                                             \n",
        "xgb_false_positive_rate,xgb_true_positive_rate,xgb_threshold = roc_curve(y_test,xgb_predicted)\n",
        "knn_false_positive_rate,knn_true_positive_rate,knn_threshold = roc_curve(y_test,knn_predicted)\n",
        "dt_false_positive_rate,dt_true_positive_rate,dt_threshold = roc_curve(y_test,dt_predicted)\n",
        "svc_false_positive_rate,svc_true_positive_rate,svc_threshold = roc_curve(y_test,svc_predicted)\n",
        "scv_false_positive_rate,scv_true_positive_rate,scv_threshold = roc_curve(y_test,scv_predicted)\n",
        "\n",
        "\n",
        "sns.set_style('whitegrid')\n",
        "plt.figure(figsize=(10,5))\n",
        "plt.title('Reciver Operating Characterstic Curve')\n",
        "plt.plot(lr_false_positive_rate,lr_true_positive_rate,label='Logistic Regression')\n",
        "plt.plot(nb_false_positive_rate,nb_true_positive_rate,label='Naive Bayes')\n",
        "plt.plot(rf_false_positive_rate,rf_true_positive_rate,label='Random Forest')\n",
        "plt.plot(xgb_false_positive_rate,xgb_true_positive_rate,label='Extreme Gradient Boost')\n",
        "plt.plot(knn_false_positive_rate,knn_true_positive_rate,label='K-Nearest Neighbor')\n",
        "plt.plot(dt_false_positive_rate,dt_true_positive_rate,label='Desion Tree')\n",
        "plt.plot(svc_false_positive_rate,svc_true_positive_rate,label='Support Vector Classifier')\n",
        "plt.plot(scv_false_positive_rate,scv_true_positive_rate,label='StackingClassifier')\n",
        "plt.plot([0,1],ls='--')\n",
        "plt.plot([0,0],[1,0],c='.5')\n",
        "plt.plot([1,1],c='.5')\n",
        "plt.ylabel('True positive rate')\n",
        "plt.xlabel('False positive rate')\n",
        "plt.legend()\n",
        "plt.show()"
      ]
    },
    {
      "cell_type": "code",
      "execution_count": null,
      "metadata": {
        "execution": {
          "iopub.execute_input": "2020-12-11T03:32:24.165913Z",
          "iopub.status.busy": "2020-12-11T03:32:24.164684Z",
          "iopub.status.idle": "2020-12-11T03:32:24.168576Z",
          "shell.execute_reply": "2020-12-11T03:32:24.169191Z"
        },
        "papermill": {
          "duration": 0.18048,
          "end_time": "2020-12-11T03:32:24.169348",
          "exception": false,
          "start_time": "2020-12-11T03:32:23.988868",
          "status": "completed"
        },
        "tags": [],
        "colab": {
          "base_uri": "https://localhost:8080/",
          "height": 300
        },
        "id": "rU7vCIADh2hd",
        "outputId": "e19f2a8f-f7af-4ab7-95d1-daa70741d9d0"
      },
      "outputs": [
        {
          "output_type": "execute_result",
          "data": {
            "text/plain": [
              "                    Model   Accuracy\n",
              "1             Naive Bayes  82.451253\n",
              "0     Logistic Regression  85.236769\n",
              "4     K-Nearest Neighbour  86.908078\n",
              "6  Support Vector Machine  87.186630\n",
              "2           Random Forest  89.415042\n",
              "5           Decision Tree  89.693593\n",
              "7      StackingClassifier  89.972145\n",
              "3  Extreme Gradient Boost  93.036212"
            ],
            "text/html": [
              "\n",
              "  <div id=\"df-55975ee4-05b5-4fc6-9673-9fb01a4cf377\">\n",
              "    <div class=\"colab-df-container\">\n",
              "      <div>\n",
              "<style scoped>\n",
              "    .dataframe tbody tr th:only-of-type {\n",
              "        vertical-align: middle;\n",
              "    }\n",
              "\n",
              "    .dataframe tbody tr th {\n",
              "        vertical-align: top;\n",
              "    }\n",
              "\n",
              "    .dataframe thead th {\n",
              "        text-align: right;\n",
              "    }\n",
              "</style>\n",
              "<table border=\"1\" class=\"dataframe\">\n",
              "  <thead>\n",
              "    <tr style=\"text-align: right;\">\n",
              "      <th></th>\n",
              "      <th>Model</th>\n",
              "      <th>Accuracy</th>\n",
              "    </tr>\n",
              "  </thead>\n",
              "  <tbody>\n",
              "    <tr>\n",
              "      <th>1</th>\n",
              "      <td>Naive Bayes</td>\n",
              "      <td>82.451253</td>\n",
              "    </tr>\n",
              "    <tr>\n",
              "      <th>0</th>\n",
              "      <td>Logistic Regression</td>\n",
              "      <td>85.236769</td>\n",
              "    </tr>\n",
              "    <tr>\n",
              "      <th>4</th>\n",
              "      <td>K-Nearest Neighbour</td>\n",
              "      <td>86.908078</td>\n",
              "    </tr>\n",
              "    <tr>\n",
              "      <th>6</th>\n",
              "      <td>Support Vector Machine</td>\n",
              "      <td>87.186630</td>\n",
              "    </tr>\n",
              "    <tr>\n",
              "      <th>2</th>\n",
              "      <td>Random Forest</td>\n",
              "      <td>89.415042</td>\n",
              "    </tr>\n",
              "    <tr>\n",
              "      <th>5</th>\n",
              "      <td>Decision Tree</td>\n",
              "      <td>89.693593</td>\n",
              "    </tr>\n",
              "    <tr>\n",
              "      <th>7</th>\n",
              "      <td>StackingClassifier</td>\n",
              "      <td>89.972145</td>\n",
              "    </tr>\n",
              "    <tr>\n",
              "      <th>3</th>\n",
              "      <td>Extreme Gradient Boost</td>\n",
              "      <td>93.036212</td>\n",
              "    </tr>\n",
              "  </tbody>\n",
              "</table>\n",
              "</div>\n",
              "      <button class=\"colab-df-convert\" onclick=\"convertToInteractive('df-55975ee4-05b5-4fc6-9673-9fb01a4cf377')\"\n",
              "              title=\"Convert this dataframe to an interactive table.\"\n",
              "              style=\"display:none;\">\n",
              "        \n",
              "  <svg xmlns=\"http://www.w3.org/2000/svg\" height=\"24px\"viewBox=\"0 0 24 24\"\n",
              "       width=\"24px\">\n",
              "    <path d=\"M0 0h24v24H0V0z\" fill=\"none\"/>\n",
              "    <path d=\"M18.56 5.44l.94 2.06.94-2.06 2.06-.94-2.06-.94-.94-2.06-.94 2.06-2.06.94zm-11 1L8.5 8.5l.94-2.06 2.06-.94-2.06-.94L8.5 2.5l-.94 2.06-2.06.94zm10 10l.94 2.06.94-2.06 2.06-.94-2.06-.94-.94-2.06-.94 2.06-2.06.94z\"/><path d=\"M17.41 7.96l-1.37-1.37c-.4-.4-.92-.59-1.43-.59-.52 0-1.04.2-1.43.59L10.3 9.45l-7.72 7.72c-.78.78-.78 2.05 0 2.83L4 21.41c.39.39.9.59 1.41.59.51 0 1.02-.2 1.41-.59l7.78-7.78 2.81-2.81c.8-.78.8-2.07 0-2.86zM5.41 20L4 18.59l7.72-7.72 1.47 1.35L5.41 20z\"/>\n",
              "  </svg>\n",
              "      </button>\n",
              "      \n",
              "  <style>\n",
              "    .colab-df-container {\n",
              "      display:flex;\n",
              "      flex-wrap:wrap;\n",
              "      gap: 12px;\n",
              "    }\n",
              "\n",
              "    .colab-df-convert {\n",
              "      background-color: #E8F0FE;\n",
              "      border: none;\n",
              "      border-radius: 50%;\n",
              "      cursor: pointer;\n",
              "      display: none;\n",
              "      fill: #1967D2;\n",
              "      height: 32px;\n",
              "      padding: 0 0 0 0;\n",
              "      width: 32px;\n",
              "    }\n",
              "\n",
              "    .colab-df-convert:hover {\n",
              "      background-color: #E2EBFA;\n",
              "      box-shadow: 0px 1px 2px rgba(60, 64, 67, 0.3), 0px 1px 3px 1px rgba(60, 64, 67, 0.15);\n",
              "      fill: #174EA6;\n",
              "    }\n",
              "\n",
              "    [theme=dark] .colab-df-convert {\n",
              "      background-color: #3B4455;\n",
              "      fill: #D2E3FC;\n",
              "    }\n",
              "\n",
              "    [theme=dark] .colab-df-convert:hover {\n",
              "      background-color: #434B5C;\n",
              "      box-shadow: 0px 1px 3px 1px rgba(0, 0, 0, 0.15);\n",
              "      filter: drop-shadow(0px 1px 2px rgba(0, 0, 0, 0.3));\n",
              "      fill: #FFFFFF;\n",
              "    }\n",
              "  </style>\n",
              "\n",
              "      <script>\n",
              "        const buttonEl =\n",
              "          document.querySelector('#df-55975ee4-05b5-4fc6-9673-9fb01a4cf377 button.colab-df-convert');\n",
              "        buttonEl.style.display =\n",
              "          google.colab.kernel.accessAllowed ? 'block' : 'none';\n",
              "\n",
              "        async function convertToInteractive(key) {\n",
              "          const element = document.querySelector('#df-55975ee4-05b5-4fc6-9673-9fb01a4cf377');\n",
              "          const dataTable =\n",
              "            await google.colab.kernel.invokeFunction('convertToInteractive',\n",
              "                                                     [key], {});\n",
              "          if (!dataTable) return;\n",
              "\n",
              "          const docLinkHtml = 'Like what you see? Visit the ' +\n",
              "            '<a target=\"_blank\" href=https://colab.research.google.com/notebooks/data_table.ipynb>data table notebook</a>'\n",
              "            + ' to learn more about interactive tables.';\n",
              "          element.innerHTML = '';\n",
              "          dataTable['output_type'] = 'display_data';\n",
              "          await google.colab.output.renderOutput(dataTable, element);\n",
              "          const docLink = document.createElement('div');\n",
              "          docLink.innerHTML = docLinkHtml;\n",
              "          element.appendChild(docLink);\n",
              "        }\n",
              "      </script>\n",
              "    </div>\n",
              "  </div>\n",
              "  "
            ]
          },
          "metadata": {},
          "execution_count": 1434
        }
      ],
      "source": [
        "model_ev = pd.DataFrame({'Model': ['Logistic Regression','Naive Bayes','Random Forest','Extreme Gradient Boost',\n",
        "                    'K-Nearest Neighbour','Decision Tree','Support Vector Machine','StackingClassifier'], 'Accuracy': [lr_acc_score*100,\n",
        "                    nb_acc_score*100,rf_acc_score*100,xgb_acc_score*100,knn_acc_score*100,dt_acc_score*100,svc_acc_score*100,scv_acc_score*100]})\n",
        "model_ev.sort_values(\"Accuracy\", axis = 0, ascending = True,\n",
        "                 inplace = True, na_position ='last')\n",
        "\n",
        "model_ev"
      ]
    },
    {
      "cell_type": "code",
      "execution_count": null,
      "metadata": {
        "execution": {
          "iopub.execute_input": "2020-12-11T03:32:24.504377Z",
          "iopub.status.busy": "2020-12-11T03:32:24.503555Z",
          "iopub.status.idle": "2020-12-11T03:32:24.713542Z",
          "shell.execute_reply": "2020-12-11T03:32:24.712783Z"
        },
        "papermill": {
          "duration": 0.381694,
          "end_time": "2020-12-11T03:32:24.713704",
          "exception": false,
          "start_time": "2020-12-11T03:32:24.332010",
          "status": "completed"
        },
        "tags": [],
        "colab": {
          "base_uri": "https://localhost:8080/",
          "height": 594
        },
        "id": "83sf4Up0h2he",
        "outputId": "e3066953-277b-4d97-df9b-f886eeaa6a77"
      },
      "outputs": [
        {
          "output_type": "display_data",
          "data": {
            "text/plain": [
              "<Figure size 1440x720 with 1 Axes>"
            ],
            "image/png": "[encoded data removed]"
          },
          "metadata": {}
        }
      ],
      "source": [
        "colors = ['red','green','blue','gold','silver','yellow','orange','purple']\n",
        "plt.figure(figsize=(20,10))\n",
        "plt.title(\"barplot Represent Accuracy of different models\")\n",
        "plt.ylabel(\"Accuracy %\")\n",
        "plt.xlabel(\"Algorithms\")\n",
        "plt.bar(model_ev['Model'],model_ev['Accuracy'],color = colors)\n",
        "plt.show()"
      ]
    },
    {
      "cell_type": "markdown",
      "source": [
        "**CONCLUSION:In general ensembling algorithms perform better than the other.**"
      ],
      "metadata": {
        "id": "nKiRHRMrJhc6"
      }
    },
    {
      "cell_type": "markdown",
      "source": [
        "##K-CROSS VALIDATION FOR BEST 4 ALGORITHUM"
      ],
      "metadata": {
        "id": "PkFrRtd7ykEC"
      }
    },
    {
      "cell_type": "markdown",
      "source": [
        "**Testing best four Algorithum in k fold cross validation for overfitting**"
      ],
      "metadata": {
        "id": "1hsRFTDt-mWs"
      }
    },
    {
      "cell_type": "code",
      "source": [
        "TOP4=[]"
      ],
      "metadata": {
        "id": "wz_kzTGWN8f6"
      },
      "execution_count": null,
      "outputs": []
    },
    {
      "cell_type": "markdown",
      "source": [
        "**Decision Tree**"
      ],
      "metadata": {
        "id": "nCJj_6-NQQ8h"
      }
    },
    {
      "cell_type": "code",
      "source": [
        "acc1=[]\n",
        "\n",
        "\n",
        "kf=KFold(n_splits=3)\n",
        "\n",
        "for train_index, test_index in kf.split(X):\n",
        "  X_train, X_test = X.iloc[train_index], X.iloc[test_index]\n",
        "  y_train, y_test = y.iloc[train_index], y.iloc[test_index]\n",
        "\n",
        "  \n",
        "  dt.fit(X_train,y_train)\n",
        "  y_pred = dt.predict(X_test)\n",
        "\n",
        "  acc1.append(accuracy_score(y_test,y_pred))\n",
        "  print(classification_report(y_test,y_pred))\n",
        "print(\"acc:\",sum(acc1)*100/len(acc1))\n",
        "TOP4.append(sum(acc1)*100/len(acc1))    "
      ],
      "metadata": {
        "colab": {
          "base_uri": "https://localhost:8080/"
        },
        "id": "LaqaeazO-HuF",
        "outputId": "d6315657-328e-4279-f314-5042ef76b7d7"
      },
      "execution_count": null,
      "outputs": [
        {
          "output_type": "stream",
          "name": "stdout",
          "text": [
            "              precision    recall  f1-score   support\n",
            "\n",
            "           0       0.88      0.92      0.90       158\n",
            "           1       0.93      0.90      0.91       184\n",
            "\n",
            "    accuracy                           0.91       342\n",
            "   macro avg       0.91      0.91      0.91       342\n",
            "weighted avg       0.91      0.91      0.91       342\n",
            "\n",
            "              precision    recall  f1-score   support\n",
            "\n",
            "           0       0.92      0.86      0.89       170\n",
            "           1       0.87      0.93      0.90       172\n",
            "\n",
            "    accuracy                           0.90       342\n",
            "   macro avg       0.90      0.90      0.90       342\n",
            "weighted avg       0.90      0.90      0.90       342\n",
            "\n",
            "              precision    recall  f1-score   support\n",
            "\n",
            "           0       0.95      0.80      0.87       171\n",
            "           1       0.83      0.96      0.89       170\n",
            "\n",
            "    accuracy                           0.88       341\n",
            "   macro avg       0.89      0.88      0.88       341\n",
            "weighted avg       0.89      0.88      0.88       341\n",
            "\n",
            "acc: 89.46196543819633\n"
          ]
        }
      ]
    },
    {
      "cell_type": "markdown",
      "source": [
        "**Random Forest**"
      ],
      "metadata": {
        "id": "7EhnOwElQZOU"
      }
    },
    {
      "cell_type": "code",
      "source": [
        "acc2=[]\n",
        "\n",
        "\n",
        "kf=KFold(n_splits=3)\n",
        "\n",
        "for train_index, test_index in kf.split(X):\n",
        "  X_train, X_test = X.iloc[train_index], X.iloc[test_index]\n",
        "  y_train, y_test = y.iloc[train_index], y.iloc[test_index]\n",
        "\n",
        "  \n",
        "  rf.fit(X_train,y_train)\n",
        "  y_pred = rf.predict(X_test)\n",
        "\n",
        "  acc2.append(accuracy_score(y_test,y_pred))\n",
        "  print(classification_report(y_test,y_pred))\n",
        "print(\"acc:\",sum(acc2)*100/len(acc2))\n",
        "TOP4.append(sum(acc2)*100/len(acc2))    "
      ],
      "metadata": {
        "colab": {
          "base_uri": "https://localhost:8080/"
        },
        "id": "vPnMoJ_EA6q4",
        "outputId": "f252904f-2b37-4916-ed49-306715fdeadb"
      },
      "execution_count": null,
      "outputs": [
        {
          "output_type": "stream",
          "name": "stdout",
          "text": [
            "              precision    recall  f1-score   support\n",
            "\n",
            "           0       0.99      0.91      0.95       158\n",
            "           1       0.92      0.99      0.96       184\n",
            "\n",
            "    accuracy                           0.95       342\n",
            "   macro avg       0.96      0.95      0.95       342\n",
            "weighted avg       0.96      0.95      0.95       342\n",
            "\n",
            "              precision    recall  f1-score   support\n",
            "\n",
            "           0       0.94      0.88      0.91       170\n",
            "           1       0.89      0.95      0.92       172\n",
            "\n",
            "    accuracy                           0.91       342\n",
            "   macro avg       0.91      0.91      0.91       342\n",
            "weighted avg       0.91      0.91      0.91       342\n",
            "\n",
            "              precision    recall  f1-score   support\n",
            "\n",
            "           0       0.91      0.89      0.90       171\n",
            "           1       0.90      0.91      0.90       170\n",
            "\n",
            "    accuracy                           0.90       341\n",
            "   macro avg       0.90      0.90      0.90       341\n",
            "weighted avg       0.90      0.90      0.90       341\n",
            "\n",
            "acc: 92.19301103851188\n"
          ]
        }
      ]
    },
    {
      "cell_type": "markdown",
      "source": [
        "**Stacking classifier**"
      ],
      "metadata": {
        "id": "jB95WkhdHSHV"
      }
    },
    {
      "cell_type": "code",
      "source": [
        "acc=[]\n",
        "\n",
        "\n",
        "kf=KFold(n_splits=3)\n",
        "\n",
        "for train_index, test_index in kf.split(X):\n",
        "  X_train, X_test = X.iloc[train_index], X.iloc[test_index]\n",
        "  y_train, y_test = y.iloc[train_index], y.iloc[test_index]\n",
        "\n",
        "  \n",
        "  scv.fit(X_train,y_train)\n",
        "  y_pred = scv.predict(X_test)\n",
        "\n",
        "  acc.append(accuracy_score(y_test,y_pred))\n",
        "  print(classification_report(y_test,y_pred))\n",
        "print(\"acc:\",sum(acc)*100/len(acc))\n",
        "TOP4.append(sum(acc)*100/len(acc))  "
      ],
      "metadata": {
        "colab": {
          "base_uri": "https://localhost:8080/"
        },
        "id": "P81w982UIEkF",
        "outputId": "5a23d19b-a533-49c2-e7f2-399a2eb78cdb"
      },
      "execution_count": null,
      "outputs": [
        {
          "output_type": "stream",
          "name": "stdout",
          "text": [
            "              precision    recall  f1-score   support\n",
            "\n",
            "           0       0.97      0.92      0.95       158\n",
            "           1       0.94      0.98      0.96       184\n",
            "\n",
            "    accuracy                           0.95       342\n",
            "   macro avg       0.96      0.95      0.95       342\n",
            "weighted avg       0.95      0.95      0.95       342\n",
            "\n",
            "              precision    recall  f1-score   support\n",
            "\n",
            "           0       0.95      0.86      0.91       170\n",
            "           1       0.88      0.96      0.92       172\n",
            "\n",
            "    accuracy                           0.91       342\n",
            "   macro avg       0.92      0.91      0.91       342\n",
            "weighted avg       0.92      0.91      0.91       342\n",
            "\n",
            "              precision    recall  f1-score   support\n",
            "\n",
            "           0       0.90      0.88      0.89       171\n",
            "           1       0.88      0.91      0.89       170\n",
            "\n",
            "    accuracy                           0.89       341\n",
            "   macro avg       0.89      0.89      0.89       341\n",
            "weighted avg       0.89      0.89      0.89       341\n",
            "\n",
            "acc: 91.89975590654707\n"
          ]
        }
      ]
    },
    {
      "cell_type": "markdown",
      "source": [
        "**Xtreme gradient boosting**"
      ],
      "metadata": {
        "id": "T-ce97WQosPr"
      }
    },
    {
      "cell_type": "code",
      "source": [
        "acc3=[]\n",
        "\n",
        "\n",
        "kf=KFold(n_splits=3)\n",
        "\n",
        "for train_index, test_index in kf.split(X):\n",
        "  X_train, X_test = X.iloc[train_index], X.iloc[test_index]\n",
        "  y_train, y_test = y.iloc[train_index], y.iloc[test_index]\n",
        "\n",
        "  \n",
        "  xgb.fit(X_train,y_train)\n",
        "  y_pred = xgb.predict(X_test)\n",
        "\n",
        "  acc3.append(accuracy_score(y_test,y_pred))\n",
        "  print(classification_report(y_test,y_pred))\n",
        "print(\"acc:\",sum(acc3)*100/len(acc3))\n",
        "TOP4.append(sum(acc3)*100/len(acc3)) "
      ],
      "metadata": {
        "colab": {
          "base_uri": "https://localhost:8080/"
        },
        "id": "AEQMNsXNnWPY",
        "outputId": "3baf0edc-795b-4e2e-8624-6941af6c3e91"
      },
      "execution_count": null,
      "outputs": [
        {
          "output_type": "stream",
          "name": "stdout",
          "text": [
            "              precision    recall  f1-score   support\n",
            "\n",
            "           0       0.96      0.97      0.96       158\n",
            "           1       0.97      0.96      0.97       184\n",
            "\n",
            "    accuracy                           0.96       342\n",
            "   macro avg       0.96      0.97      0.96       342\n",
            "weighted avg       0.97      0.96      0.96       342\n",
            "\n",
            "              precision    recall  f1-score   support\n",
            "\n",
            "           0       0.96      0.91      0.93       170\n",
            "           1       0.91      0.96      0.93       172\n",
            "\n",
            "    accuracy                           0.93       342\n",
            "   macro avg       0.93      0.93      0.93       342\n",
            "weighted avg       0.93      0.93      0.93       342\n",
            "\n",
            "              precision    recall  f1-score   support\n",
            "\n",
            "           0       0.92      0.92      0.92       171\n",
            "           1       0.92      0.92      0.92       170\n",
            "\n",
            "    accuracy                           0.92       341\n",
            "   macro avg       0.92      0.92      0.92       341\n",
            "weighted avg       0.92      0.92      0.92       341\n",
            "\n",
            "acc: 94.04714948008666\n"
          ]
        }
      ]
    },
    {
      "cell_type": "code",
      "source": [
        "model_ev = pd.DataFrame({'Model': ['Decision Tree','Random Forest','StackingClassifier','Extreme Gradient Boost'], 'Accuracy': [TOP4[0],TOP4[1],TOP4[2],TOP4[3]]})\n",
        "model_ev.sort_values(\"Accuracy\", axis = 0, ascending = True,\n",
        "                 inplace = True, na_position ='last')\n",
        "model_ev"
      ],
      "metadata": {
        "colab": {
          "base_uri": "https://localhost:8080/",
          "height": 174
        },
        "id": "0AsKtr5DHxHn",
        "outputId": "9e940dd9-5313-4956-e0ee-62cb47086322"
      },
      "execution_count": null,
      "outputs": [
        {
          "output_type": "execute_result",
          "data": {
            "text/plain": [
              "                    Model   Accuracy\n",
              "0           Decision Tree  89.461965\n",
              "2      StackingClassifier  91.899756\n",
              "1           Random Forest  92.193011\n",
              "3  Extreme Gradient Boost  94.047149"
            ],
            "text/html": [
              "\n",
              "  <div id=\"df-65dfee8e-d76a-4ca9-ae10-5946557e918a\">\n",
              "    <div class=\"colab-df-container\">\n",
              "      <div>\n",
              "<style scoped>\n",
              "    .dataframe tbody tr th:only-of-type {\n",
              "        vertical-align: middle;\n",
              "    }\n",
              "\n",
              "    .dataframe tbody tr th {\n",
              "        vertical-align: top;\n",
              "    }\n",
              "\n",
              "    .dataframe thead th {\n",
              "        text-align: right;\n",
              "    }\n",
              "</style>\n",
              "<table border=\"1\" class=\"dataframe\">\n",
              "  <thead>\n",
              "    <tr style=\"text-align: right;\">\n",
              "      <th></th>\n",
              "      <th>Model</th>\n",
              "      <th>Accuracy</th>\n",
              "    </tr>\n",
              "  </thead>\n",
              "  <tbody>\n",
              "    <tr>\n",
              "      <th>0</th>\n",
              "      <td>Decision Tree</td>\n",
              "      <td>89.461965</td>\n",
              "    </tr>\n",
              "    <tr>\n",
              "      <th>2</th>\n",
              "      <td>StackingClassifier</td>\n",
              "      <td>91.899756</td>\n",
              "    </tr>\n",
              "    <tr>\n",
              "      <th>1</th>\n",
              "      <td>Random Forest</td>\n",
              "      <td>92.193011</td>\n",
              "    </tr>\n",
              "    <tr>\n",
              "      <th>3</th>\n",
              "      <td>Extreme Gradient Boost</td>\n",
              "      <td>94.047149</td>\n",
              "    </tr>\n",
              "  </tbody>\n",
              "</table>\n",
              "</div>\n",
              "      <button class=\"colab-df-convert\" onclick=\"convertToInteractive('df-65dfee8e-d76a-4ca9-ae10-5946557e918a')\"\n",
              "              title=\"Convert this dataframe to an interactive table.\"\n",
              "              style=\"display:none;\">\n",
              "        \n",
              "  <svg xmlns=\"http://www.w3.org/2000/svg\" height=\"24px\"viewBox=\"0 0 24 24\"\n",
              "       width=\"24px\">\n",
              "    <path d=\"M0 0h24v24H0V0z\" fill=\"none\"/>\n",
              "    <path d=\"M18.56 5.44l.94 2.06.94-2.06 2.06-.94-2.06-.94-.94-2.06-.94 2.06-2.06.94zm-11 1L8.5 8.5l.94-2.06 2.06-.94-2.06-.94L8.5 2.5l-.94 2.06-2.06.94zm10 10l.94 2.06.94-2.06 2.06-.94-2.06-.94-.94-2.06-.94 2.06-2.06.94z\"/><path d=\"M17.41 7.96l-1.37-1.37c-.4-.4-.92-.59-1.43-.59-.52 0-1.04.2-1.43.59L10.3 9.45l-7.72 7.72c-.78.78-.78 2.05 0 2.83L4 21.41c.39.39.9.59 1.41.59.51 0 1.02-.2 1.41-.59l7.78-7.78 2.81-2.81c.8-.78.8-2.07 0-2.86zM5.41 20L4 18.59l7.72-7.72 1.47 1.35L5.41 20z\"/>\n",
              "  </svg>\n",
              "      </button>\n",
              "      \n",
              "  <style>\n",
              "    .colab-df-container {\n",
              "      display:flex;\n",
              "      flex-wrap:wrap;\n",
              "      gap: 12px;\n",
              "    }\n",
              "\n",
              "    .colab-df-convert {\n",
              "      background-color: #E8F0FE;\n",
              "      border: none;\n",
              "      border-radius: 50%;\n",
              "      cursor: pointer;\n",
              "      display: none;\n",
              "      fill: #1967D2;\n",
              "      height: 32px;\n",
              "      padding: 0 0 0 0;\n",
              "      width: 32px;\n",
              "    }\n",
              "\n",
              "    .colab-df-convert:hover {\n",
              "      background-color: #E2EBFA;\n",
              "      box-shadow: 0px 1px 2px rgba(60, 64, 67, 0.3), 0px 1px 3px 1px rgba(60, 64, 67, 0.15);\n",
              "      fill: #174EA6;\n",
              "    }\n",
              "\n",
              "    [theme=dark] .colab-df-convert {\n",
              "      background-color: #3B4455;\n",
              "      fill: #D2E3FC;\n",
              "    }\n",
              "\n",
              "    [theme=dark] .colab-df-convert:hover {\n",
              "      background-color: #434B5C;\n",
              "      box-shadow: 0px 1px 3px 1px rgba(0, 0, 0, 0.15);\n",
              "      filter: drop-shadow(0px 1px 2px rgba(0, 0, 0, 0.3));\n",
              "      fill: #FFFFFF;\n",
              "    }\n",
              "  </style>\n",
              "\n",
              "      <script>\n",
              "        const buttonEl =\n",
              "          document.querySelector('#df-65dfee8e-d76a-4ca9-ae10-5946557e918a button.colab-df-convert');\n",
              "        buttonEl.style.display =\n",
              "          google.colab.kernel.accessAllowed ? 'block' : 'none';\n",
              "\n",
              "        async function convertToInteractive(key) {\n",
              "          const element = document.querySelector('#df-65dfee8e-d76a-4ca9-ae10-5946557e918a');\n",
              "          const dataTable =\n",
              "            await google.colab.kernel.invokeFunction('convertToInteractive',\n",
              "                                                     [key], {});\n",
              "          if (!dataTable) return;\n",
              "\n",
              "          const docLinkHtml = 'Like what you see? Visit the ' +\n",
              "            '<a target=\"_blank\" href=https://colab.research.google.com/notebooks/data_table.ipynb>data table notebook</a>'\n",
              "            + ' to learn more about interactive tables.';\n",
              "          element.innerHTML = '';\n",
              "          dataTable['output_type'] = 'display_data';\n",
              "          await google.colab.output.renderOutput(dataTable, element);\n",
              "          const docLink = document.createElement('div');\n",
              "          docLink.innerHTML = docLinkHtml;\n",
              "          element.appendChild(docLink);\n",
              "        }\n",
              "      </script>\n",
              "    </div>\n",
              "  </div>\n",
              "  "
            ]
          },
          "metadata": {},
          "execution_count": 1441
        }
      ]
    },
    {
      "cell_type": "code",
      "source": [
        "colors = ['red','green','blue','yellow']\n",
        "plt.figure(figsize=(15,15))\n",
        "plt.title(\"barplot Represent Accuracy of different models\")\n",
        "plt.ylabel(\"Accuracy %\")\n",
        "plt.xlabel(\"Algorithms\")\n",
        "plt.bar([\"DECISION TREE\",\"RANDOM FOREST\",\"STACKING CLASSIFIER\",\"XTREME GRADIENT BOOSTING\"],TOP4,color = colors)\n",
        "plt.show()"
      ],
      "metadata": {
        "colab": {
          "base_uri": "https://localhost:8080/",
          "height": 893
        },
        "id": "AFBEmEa8O-tf",
        "outputId": "5dd66135-acd9-454d-e55a-c0deedc8d835"
      },
      "execution_count": null,
      "outputs": [
        {
          "output_type": "display_data",
          "data": {
            "text/plain": [
              "<Figure size 1080x1080 with 1 Axes>"
            ],
            "image/png": "[encoded data removed]"
          },
          "metadata": {}
        }
      ]
    },
    {
      "cell_type": "markdown",
      "source": [
        "**Xtreme Gradient Boosting show the best result from the top 4**"
      ],
      "metadata": {
        "id": "gaH5NSA5LxJ8"
      }
    },
    {
      "cell_type": "markdown",
      "source": [
        "#**Feature selection**"
      ],
      "metadata": {
        "id": "-1urSghcsslB"
      }
    },
    {
      "cell_type": "markdown",
      "source": [
        "**Feature importance-XG Boost**"
      ],
      "metadata": {
        "id": "D2VlOFpO9LLH"
      }
    },
    {
      "cell_type": "code",
      "source": [
        "imp_feature = pd.DataFrame({'Feature': ['age', 'sex', 'cp', 'trestbps', 'chol', 'fbs', 'restecg', 'thalach',\n",
        "       'exang', 'oldpeak', 'slope', 'ca', 'thal'], 'Importance': xgb.feature_importances_})\n",
        "plt.figure(figsize=(10,4))\n",
        "plt.title(\"barplot Represent feature importance \")\n",
        "plt.xlabel(\"importance \")\n",
        "plt.ylabel(\"features\")\n",
        "plt.barh(imp_feature['Feature'],imp_feature['Importance'],color = 'rgbkymc')\n",
        "plt.show()"
      ],
      "metadata": {
        "colab": {
          "base_uri": "https://localhost:8080/",
          "height": 295
        },
        "id": "2NNxo6Rj6JiD",
        "outputId": "c86b84fd-6799-4bbf-b0df-df4f4aa76fa7"
      },
      "execution_count": null,
      "outputs": [
        {
          "output_type": "display_data",
          "data": {
            "text/plain": [
              "<Figure size 720x288 with 1 Axes>"
            ],
            "image/png": "[encoded data removed]"
          },
          "metadata": {}
        }
      ]
    },
    {
      "cell_type": "markdown",
      "source": [
        "**Conclusion**\n",
        "\n",
        "*  'fbs' has least importance in the boosting\n",
        "*   'cp' and 'thal' have maximum inportance in the boosting \n",
        "\n"
      ],
      "metadata": {
        "id": "9G4YkAQeGdDF"
      }
    },
    {
      "cell_type": "markdown",
      "source": [
        "**Let's drop the least important feature and see the impact on performance**"
      ],
      "metadata": {
        "id": "Ykf9VqzwGxiL"
      }
    },
    {
      "cell_type": "markdown",
      "source": [
        "**Default dataset**"
      ],
      "metadata": {
        "id": "EDPXIGB0Ype6"
      }
    },
    {
      "cell_type": "code",
      "source": [
        "y = data[\"target\"]\n",
        "X = data.drop(columns=['target'])\n",
        "cols=X.columns\n",
        "for col in cols:\n",
        "   X[col]=minmax_scale(X[col])\n",
        "X"
      ],
      "metadata": {
        "colab": {
          "base_uri": "https://localhost:8080/",
          "height": 423
        },
        "id": "nVRB4Z7OgvAN",
        "outputId": "425d18b5-45f6-46a1-e441-70ab2f66dc3f"
      },
      "execution_count": null,
      "outputs": [
        {
          "output_type": "execute_result",
          "data": {
            "text/plain": [
              "           age  sex        cp  trestbps      chol  fbs  restecg   thalach  \\\n",
              "0     0.479167  1.0  0.000000  0.292453  0.196347  0.0      0.5  0.740458   \n",
              "1     0.500000  1.0  0.000000  0.433962  0.175799  1.0      0.0  0.641221   \n",
              "2     0.854167  1.0  0.000000  0.481132  0.109589  0.0      0.5  0.412214   \n",
              "3     0.666667  1.0  0.000000  0.509434  0.175799  0.0      0.5  0.687023   \n",
              "4     0.687500  0.0  0.000000  0.415094  0.383562  1.0      0.5  0.267176   \n",
              "...        ...  ...       ...       ...       ...  ...      ...       ...   \n",
              "1020  0.625000  1.0  0.333333  0.433962  0.216895  0.0      0.5  0.709924   \n",
              "1021  0.645833  1.0  0.000000  0.292453  0.301370  0.0      0.0  0.534351   \n",
              "1022  0.375000  1.0  0.000000  0.150943  0.340183  0.0      0.0  0.358779   \n",
              "1023  0.437500  0.0  0.000000  0.150943  0.292237  0.0      0.0  0.671756   \n",
              "1024  0.520833  1.0  0.000000  0.245283  0.141553  0.0      0.5  0.320611   \n",
              "\n",
              "      exang   oldpeak  slope    ca      thal  \n",
              "0       0.0  0.161290    1.0  0.50  1.000000  \n",
              "1       1.0  0.500000    0.0  0.00  1.000000  \n",
              "2       1.0  0.419355    0.0  0.00  1.000000  \n",
              "3       0.0  0.000000    1.0  0.25  1.000000  \n",
              "4       0.0  0.306452    0.5  0.75  0.666667  \n",
              "...     ...       ...    ...   ...       ...  \n",
              "1020    1.0  0.000000    1.0  0.00  0.666667  \n",
              "1021    1.0  0.451613    0.5  0.25  1.000000  \n",
              "1022    1.0  0.161290    0.5  0.25  0.666667  \n",
              "1023    0.0  0.000000    1.0  0.00  0.666667  \n",
              "1024    0.0  0.225806    0.5  0.25  1.000000  \n",
              "\n",
              "[1025 rows x 13 columns]"
            ],
            "text/html": [
              "\n",
              "  <div id=\"df-04c96a27-a263-4de2-80c0-05a0e837fdf4\">\n",
              "    <div class=\"colab-df-container\">\n",
              "      <div>\n",
              "<style scoped>\n",
              "    .dataframe tbody tr th:only-of-type {\n",
              "        vertical-align: middle;\n",
              "    }\n",
              "\n",
              "    .dataframe tbody tr th {\n",
              "        vertical-align: top;\n",
              "    }\n",
              "\n",
              "    .dataframe thead th {\n",
              "        text-align: right;\n",
              "    }\n",
              "</style>\n",
              "<table border=\"1\" class=\"dataframe\">\n",
              "  <thead>\n",
              "    <tr style=\"text-align: right;\">\n",
              "      <th></th>\n",
              "      <th>age</th>\n",
              "      <th>sex</th>\n",
              "      <th>cp</th>\n",
              "      <th>trestbps</th>\n",
              "      <th>chol</th>\n",
              "      <th>fbs</th>\n",
              "      <th>restecg</th>\n",
              "      <th>thalach</th>\n",
              "      <th>exang</th>\n",
              "      <th>oldpeak</th>\n",
              "      <th>slope</th>\n",
              "      <th>ca</th>\n",
              "      <th>thal</th>\n",
              "    </tr>\n",
              "  </thead>\n",
              "  <tbody>\n",
              "    <tr>\n",
              "      <th>0</th>\n",
              "      <td>0.479167</td>\n",
              "      <td>1.0</td>\n",
              "      <td>0.000000</td>\n",
              "      <td>0.292453</td>\n",
              "      <td>0.196347</td>\n",
              "      <td>0.0</td>\n",
              "      <td>0.5</td>\n",
              "      <td>0.740458</td>\n",
              "      <td>0.0</td>\n",
              "      <td>0.161290</td>\n",
              "      <td>1.0</td>\n",
              "      <td>0.50</td>\n",
              "      <td>1.000000</td>\n",
              "    </tr>\n",
              "    <tr>\n",
              "      <th>1</th>\n",
              "      <td>0.500000</td>\n",
              "      <td>1.0</td>\n",
              "      <td>0.000000</td>\n",
              "      <td>0.433962</td>\n",
              "      <td>0.175799</td>\n",
              "      <td>1.0</td>\n",
              "      <td>0.0</td>\n",
              "      <td>0.641221</td>\n",
              "      <td>1.0</td>\n",
              "      <td>0.500000</td>\n",
              "      <td>0.0</td>\n",
              "      <td>0.00</td>\n",
              "      <td>1.000000</td>\n",
              "    </tr>\n",
              "    <tr>\n",
              "      <th>2</th>\n",
              "      <td>0.854167</td>\n",
              "      <td>1.0</td>\n",
              "      <td>0.000000</td>\n",
              "      <td>0.481132</td>\n",
              "      <td>0.109589</td>\n",
              "      <td>0.0</td>\n",
              "      <td>0.5</td>\n",
              "      <td>0.412214</td>\n",
              "      <td>1.0</td>\n",
              "      <td>0.419355</td>\n",
              "      <td>0.0</td>\n",
              "      <td>0.00</td>\n",
              "      <td>1.000000</td>\n",
              "    </tr>\n",
              "    <tr>\n",
              "      <th>3</th>\n",
              "      <td>0.666667</td>\n",
              "      <td>1.0</td>\n",
              "      <td>0.000000</td>\n",
              "      <td>0.509434</td>\n",
              "      <td>0.175799</td>\n",
              "      <td>0.0</td>\n",
              "      <td>0.5</td>\n",
              "      <td>0.687023</td>\n",
              "      <td>0.0</td>\n",
              "      <td>0.000000</td>\n",
              "      <td>1.0</td>\n",
              "      <td>0.25</td>\n",
              "      <td>1.000000</td>\n",
              "    </tr>\n",
              "    <tr>\n",
              "      <th>4</th>\n",
              "      <td>0.687500</td>\n",
              "      <td>0.0</td>\n",
              "      <td>0.000000</td>\n",
              "      <td>0.415094</td>\n",
              "      <td>0.383562</td>\n",
              "      <td>1.0</td>\n",
              "      <td>0.5</td>\n",
              "      <td>0.267176</td>\n",
              "      <td>0.0</td>\n",
              "      <td>0.306452</td>\n",
              "      <td>0.5</td>\n",
              "      <td>0.75</td>\n",
              "      <td>0.666667</td>\n",
              "    </tr>\n",
              "    <tr>\n",
              "      <th>...</th>\n",
              "      <td>...</td>\n",
              "      <td>...</td>\n",
              "      <td>...</td>\n",
              "      <td>...</td>\n",
              "      <td>...</td>\n",
              "      <td>...</td>\n",
              "      <td>...</td>\n",
              "      <td>...</td>\n",
              "      <td>...</td>\n",
              "      <td>...</td>\n",
              "      <td>...</td>\n",
              "      <td>...</td>\n",
              "      <td>...</td>\n",
              "    </tr>\n",
              "    <tr>\n",
              "      <th>1020</th>\n",
              "      <td>0.625000</td>\n",
              "      <td>1.0</td>\n",
              "      <td>0.333333</td>\n",
              "      <td>0.433962</td>\n",
              "      <td>0.216895</td>\n",
              "      <td>0.0</td>\n",
              "      <td>0.5</td>\n",
              "      <td>0.709924</td>\n",
              "      <td>1.0</td>\n",
              "      <td>0.000000</td>\n",
              "      <td>1.0</td>\n",
              "      <td>0.00</td>\n",
              "      <td>0.666667</td>\n",
              "    </tr>\n",
              "    <tr>\n",
              "      <th>1021</th>\n",
              "      <td>0.645833</td>\n",
              "      <td>1.0</td>\n",
              "      <td>0.000000</td>\n",
              "      <td>0.292453</td>\n",
              "      <td>0.301370</td>\n",
              "      <td>0.0</td>\n",
              "      <td>0.0</td>\n",
              "      <td>0.534351</td>\n",
              "      <td>1.0</td>\n",
              "      <td>0.451613</td>\n",
              "      <td>0.5</td>\n",
              "      <td>0.25</td>\n",
              "      <td>1.000000</td>\n",
              "    </tr>\n",
              "    <tr>\n",
              "      <th>1022</th>\n",
              "      <td>0.375000</td>\n",
              "      <td>1.0</td>\n",
              "      <td>0.000000</td>\n",
              "      <td>0.150943</td>\n",
              "      <td>0.340183</td>\n",
              "      <td>0.0</td>\n",
              "      <td>0.0</td>\n",
              "      <td>0.358779</td>\n",
              "      <td>1.0</td>\n",
              "      <td>0.161290</td>\n",
              "      <td>0.5</td>\n",
              "      <td>0.25</td>\n",
              "      <td>0.666667</td>\n",
              "    </tr>\n",
              "    <tr>\n",
              "      <th>1023</th>\n",
              "      <td>0.437500</td>\n",
              "      <td>0.0</td>\n",
              "      <td>0.000000</td>\n",
              "      <td>0.150943</td>\n",
              "      <td>0.292237</td>\n",
              "      <td>0.0</td>\n",
              "      <td>0.0</td>\n",
              "      <td>0.671756</td>\n",
              "      <td>0.0</td>\n",
              "      <td>0.000000</td>\n",
              "      <td>1.0</td>\n",
              "      <td>0.00</td>\n",
              "      <td>0.666667</td>\n",
              "    </tr>\n",
              "    <tr>\n",
              "      <th>1024</th>\n",
              "      <td>0.520833</td>\n",
              "      <td>1.0</td>\n",
              "      <td>0.000000</td>\n",
              "      <td>0.245283</td>\n",
              "      <td>0.141553</td>\n",
              "      <td>0.0</td>\n",
              "      <td>0.5</td>\n",
              "      <td>0.320611</td>\n",
              "      <td>0.0</td>\n",
              "      <td>0.225806</td>\n",
              "      <td>0.5</td>\n",
              "      <td>0.25</td>\n",
              "      <td>1.000000</td>\n",
              "    </tr>\n",
              "  </tbody>\n",
              "</table>\n",
              "<p>1025 rows × 13 columns</p>\n",
              "</div>\n",
              "      <button class=\"colab-df-convert\" onclick=\"convertToInteractive('df-04c96a27-a263-4de2-80c0-05a0e837fdf4')\"\n",
              "              title=\"Convert this dataframe to an interactive table.\"\n",
              "              style=\"display:none;\">\n",
              "        \n",
              "  <svg xmlns=\"http://www.w3.org/2000/svg\" height=\"24px\"viewBox=\"0 0 24 24\"\n",
              "       width=\"24px\">\n",
              "    <path d=\"M0 0h24v24H0V0z\" fill=\"none\"/>\n",
              "    <path d=\"M18.56 5.44l.94 2.06.94-2.06 2.06-.94-2.06-.94-.94-2.06-.94 2.06-2.06.94zm-11 1L8.5 8.5l.94-2.06 2.06-.94-2.06-.94L8.5 2.5l-.94 2.06-2.06.94zm10 10l.94 2.06.94-2.06 2.06-.94-2.06-.94-.94-2.06-.94 2.06-2.06.94z\"/><path d=\"M17.41 7.96l-1.37-1.37c-.4-.4-.92-.59-1.43-.59-.52 0-1.04.2-1.43.59L10.3 9.45l-7.72 7.72c-.78.78-.78 2.05 0 2.83L4 21.41c.39.39.9.59 1.41.59.51 0 1.02-.2 1.41-.59l7.78-7.78 2.81-2.81c.8-.78.8-2.07 0-2.86zM5.41 20L4 18.59l7.72-7.72 1.47 1.35L5.41 20z\"/>\n",
              "  </svg>\n",
              "      </button>\n",
              "      \n",
              "  <style>\n",
              "    .colab-df-container {\n",
              "      display:flex;\n",
              "      flex-wrap:wrap;\n",
              "      gap: 12px;\n",
              "    }\n",
              "\n",
              "    .colab-df-convert {\n",
              "      background-color: #E8F0FE;\n",
              "      border: none;\n",
              "      border-radius: 50%;\n",
              "      cursor: pointer;\n",
              "      display: none;\n",
              "      fill: #1967D2;\n",
              "      height: 32px;\n",
              "      padding: 0 0 0 0;\n",
              "      width: 32px;\n",
              "    }\n",
              "\n",
              "    .colab-df-convert:hover {\n",
              "      background-color: #E2EBFA;\n",
              "      box-shadow: 0px 1px 2px rgba(60, 64, 67, 0.3), 0px 1px 3px 1px rgba(60, 64, 67, 0.15);\n",
              "      fill: #174EA6;\n",
              "    }\n",
              "\n",
              "    [theme=dark] .colab-df-convert {\n",
              "      background-color: #3B4455;\n",
              "      fill: #D2E3FC;\n",
              "    }\n",
              "\n",
              "    [theme=dark] .colab-df-convert:hover {\n",
              "      background-color: #434B5C;\n",
              "      box-shadow: 0px 1px 3px 1px rgba(0, 0, 0, 0.15);\n",
              "      filter: drop-shadow(0px 1px 2px rgba(0, 0, 0, 0.3));\n",
              "      fill: #FFFFFF;\n",
              "    }\n",
              "  </style>\n",
              "\n",
              "      <script>\n",
              "        const buttonEl =\n",
              "          document.querySelector('#df-04c96a27-a263-4de2-80c0-05a0e837fdf4 button.colab-df-convert');\n",
              "        buttonEl.style.display =\n",
              "          google.colab.kernel.accessAllowed ? 'block' : 'none';\n",
              "\n",
              "        async function convertToInteractive(key) {\n",
              "          const element = document.querySelector('#df-04c96a27-a263-4de2-80c0-05a0e837fdf4');\n",
              "          const dataTable =\n",
              "            await google.colab.kernel.invokeFunction('convertToInteractive',\n",
              "                                                     [key], {});\n",
              "          if (!dataTable) return;\n",
              "\n",
              "          const docLinkHtml = 'Like what you see? Visit the ' +\n",
              "            '<a target=\"_blank\" href=https://colab.research.google.com/notebooks/data_table.ipynb>data table notebook</a>'\n",
              "            + ' to learn more about interactive tables.';\n",
              "          element.innerHTML = '';\n",
              "          dataTable['output_type'] = 'display_data';\n",
              "          await google.colab.output.renderOutput(dataTable, element);\n",
              "          const docLink = document.createElement('div');\n",
              "          docLink.innerHTML = docLinkHtml;\n",
              "          element.appendChild(docLink);\n",
              "        }\n",
              "      </script>\n",
              "    </div>\n",
              "  </div>\n",
              "  "
            ]
          },
          "metadata": {},
          "execution_count": 1485
        }
      ]
    },
    {
      "cell_type": "code",
      "source": [
        "acc1=[]\n",
        "p1=[]\n",
        "r1=[]\n",
        "f1=[]\n",
        "hmsc=[]\n",
        "model=XGBClassifier(max_depth=3,n_estimators=350,learning_rate=0.1,min_child_weight=3,colsample_bytree=0.2,reg_lambda=4)\n",
        "\n",
        "kf=KFold(n_splits=3,shuffle=False)\n",
        "\n",
        "for train_index, test_index in kf.split(X):\n",
        "  X_train, X_test = X.iloc[train_index], X.iloc[test_index]\n",
        "  y_train, y_test = y.iloc[train_index], y.iloc[test_index]\n",
        "\n",
        "  \n",
        "  model.fit(X_train,y_train)\n",
        "  y_pred = model.predict(X_test)\n",
        "\n",
        "  acc1.append(accuracy_score(y_test,y_pred))\n",
        "  p1.append(precision_score(y_test,y_pred))\n",
        "  r1.append(recall_score(y_test,y_pred))\n",
        "  f1.append(f1_score(y_test,y_pred))\n",
        "  print(classification_report(y_test,y_pred))\n",
        "print(\"acc:\",sum(acc1)*100/len(acc1))\n",
        "hmsc.extend((sum(acc1)*100/len(acc1),sum(p1)*100/len(p1),sum(r1)*100/len(r1),sum(f1)*100/len(f1)))\n",
        "print(hmsc)"
      ],
      "metadata": {
        "colab": {
          "base_uri": "https://localhost:8080/"
        },
        "id": "bkqLUbHNY1ql",
        "outputId": "b41ade9f-2713-4380-c754-a172c520c4a8"
      },
      "execution_count": null,
      "outputs": [
        {
          "output_type": "stream",
          "name": "stdout",
          "text": [
            "              precision    recall  f1-score   support\n",
            "\n",
            "           0       0.97      0.97      0.97       158\n",
            "           1       0.98      0.97      0.98       184\n",
            "\n",
            "    accuracy                           0.97       342\n",
            "   macro avg       0.97      0.97      0.97       342\n",
            "weighted avg       0.97      0.97      0.97       342\n",
            "\n",
            "              precision    recall  f1-score   support\n",
            "\n",
            "           0       0.94      0.94      0.94       170\n",
            "           1       0.94      0.94      0.94       172\n",
            "\n",
            "    accuracy                           0.94       342\n",
            "   macro avg       0.94      0.94      0.94       342\n",
            "weighted avg       0.94      0.94      0.94       342\n",
            "\n",
            "              precision    recall  f1-score   support\n",
            "\n",
            "           0       0.90      0.94      0.92       171\n",
            "           1       0.93      0.89      0.91       170\n",
            "\n",
            "    accuracy                           0.91       341\n",
            "   macro avg       0.92      0.91      0.91       341\n",
            "weighted avg       0.92      0.91      0.91       341\n",
            "\n",
            "acc: 94.24122378281972\n",
            "[94.24122378281972, 95.07259605874343, 93.43300818810842, 94.23884207846841]\n"
          ]
        }
      ]
    },
    {
      "cell_type": "markdown",
      "source": [
        "**Changed features**"
      ],
      "metadata": {
        "id": "TeMx11Sib2g6"
      }
    },
    {
      "cell_type": "code",
      "source": [
        "y = data[\"target\"]\n",
        "X = data.drop(columns=['target','fbs'])\n",
        "cols=X.columns\n",
        "for col in cols:\n",
        "   X[col]=minmax_scale(X[col])\n",
        "X"
      ],
      "metadata": {
        "colab": {
          "base_uri": "https://localhost:8080/",
          "height": 423
        },
        "id": "aGcwFNuBXzdd",
        "outputId": "32f7e45b-18fb-4a64-f492-647fa778fbab"
      },
      "execution_count": null,
      "outputs": [
        {
          "output_type": "execute_result",
          "data": {
            "text/plain": [
              "           age  sex        cp  trestbps      chol  restecg   thalach  exang  \\\n",
              "0     0.479167  1.0  0.000000  0.292453  0.196347      0.5  0.740458    0.0   \n",
              "1     0.500000  1.0  0.000000  0.433962  0.175799      0.0  0.641221    1.0   \n",
              "2     0.854167  1.0  0.000000  0.481132  0.109589      0.5  0.412214    1.0   \n",
              "3     0.666667  1.0  0.000000  0.509434  0.175799      0.5  0.687023    0.0   \n",
              "4     0.687500  0.0  0.000000  0.415094  0.383562      0.5  0.267176    0.0   \n",
              "...        ...  ...       ...       ...       ...      ...       ...    ...   \n",
              "1020  0.625000  1.0  0.333333  0.433962  0.216895      0.5  0.709924    1.0   \n",
              "1021  0.645833  1.0  0.000000  0.292453  0.301370      0.0  0.534351    1.0   \n",
              "1022  0.375000  1.0  0.000000  0.150943  0.340183      0.0  0.358779    1.0   \n",
              "1023  0.437500  0.0  0.000000  0.150943  0.292237      0.0  0.671756    0.0   \n",
              "1024  0.520833  1.0  0.000000  0.245283  0.141553      0.5  0.320611    0.0   \n",
              "\n",
              "       oldpeak  slope    ca      thal  \n",
              "0     0.161290    1.0  0.50  1.000000  \n",
              "1     0.500000    0.0  0.00  1.000000  \n",
              "2     0.419355    0.0  0.00  1.000000  \n",
              "3     0.000000    1.0  0.25  1.000000  \n",
              "4     0.306452    0.5  0.75  0.666667  \n",
              "...        ...    ...   ...       ...  \n",
              "1020  0.000000    1.0  0.00  0.666667  \n",
              "1021  0.451613    0.5  0.25  1.000000  \n",
              "1022  0.161290    0.5  0.25  0.666667  \n",
              "1023  0.000000    1.0  0.00  0.666667  \n",
              "1024  0.225806    0.5  0.25  1.000000  \n",
              "\n",
              "[1025 rows x 12 columns]"
            ],
            "text/html": [
              "\n",
              "  <div id=\"df-f63302eb-3724-4dbc-9812-68e26cc4bcc5\">\n",
              "    <div class=\"colab-df-container\">\n",
              "      <div>\n",
              "<style scoped>\n",
              "    .dataframe tbody tr th:only-of-type {\n",
              "        vertical-align: middle;\n",
              "    }\n",
              "\n",
              "    .dataframe tbody tr th {\n",
              "        vertical-align: top;\n",
              "    }\n",
              "\n",
              "    .dataframe thead th {\n",
              "        text-align: right;\n",
              "    }\n",
              "</style>\n",
              "<table border=\"1\" class=\"dataframe\">\n",
              "  <thead>\n",
              "    <tr style=\"text-align: right;\">\n",
              "      <th></th>\n",
              "      <th>age</th>\n",
              "      <th>sex</th>\n",
              "      <th>cp</th>\n",
              "      <th>trestbps</th>\n",
              "      <th>chol</th>\n",
              "      <th>restecg</th>\n",
              "      <th>thalach</th>\n",
              "      <th>exang</th>\n",
              "      <th>oldpeak</th>\n",
              "      <th>slope</th>\n",
              "      <th>ca</th>\n",
              "      <th>thal</th>\n",
              "    </tr>\n",
              "  </thead>\n",
              "  <tbody>\n",
              "    <tr>\n",
              "      <th>0</th>\n",
              "      <td>0.479167</td>\n",
              "      <td>1.0</td>\n",
              "      <td>0.000000</td>\n",
              "      <td>0.292453</td>\n",
              "      <td>0.196347</td>\n",
              "      <td>0.5</td>\n",
              "      <td>0.740458</td>\n",
              "      <td>0.0</td>\n",
              "      <td>0.161290</td>\n",
              "      <td>1.0</td>\n",
              "      <td>0.50</td>\n",
              "      <td>1.000000</td>\n",
              "    </tr>\n",
              "    <tr>\n",
              "      <th>1</th>\n",
              "      <td>0.500000</td>\n",
              "      <td>1.0</td>\n",
              "      <td>0.000000</td>\n",
              "      <td>0.433962</td>\n",
              "      <td>0.175799</td>\n",
              "      <td>0.0</td>\n",
              "      <td>0.641221</td>\n",
              "      <td>1.0</td>\n",
              "      <td>0.500000</td>\n",
              "      <td>0.0</td>\n",
              "      <td>0.00</td>\n",
              "      <td>1.000000</td>\n",
              "    </tr>\n",
              "    <tr>\n",
              "      <th>2</th>\n",
              "      <td>0.854167</td>\n",
              "      <td>1.0</td>\n",
              "      <td>0.000000</td>\n",
              "      <td>0.481132</td>\n",
              "      <td>0.109589</td>\n",
              "      <td>0.5</td>\n",
              "      <td>0.412214</td>\n",
              "      <td>1.0</td>\n",
              "      <td>0.419355</td>\n",
              "      <td>0.0</td>\n",
              "      <td>0.00</td>\n",
              "      <td>1.000000</td>\n",
              "    </tr>\n",
              "    <tr>\n",
              "      <th>3</th>\n",
              "      <td>0.666667</td>\n",
              "      <td>1.0</td>\n",
              "      <td>0.000000</td>\n",
              "      <td>0.509434</td>\n",
              "      <td>0.175799</td>\n",
              "      <td>0.5</td>\n",
              "      <td>0.687023</td>\n",
              "      <td>0.0</td>\n",
              "      <td>0.000000</td>\n",
              "      <td>1.0</td>\n",
              "      <td>0.25</td>\n",
              "      <td>1.000000</td>\n",
              "    </tr>\n",
              "    <tr>\n",
              "      <th>4</th>\n",
              "      <td>0.687500</td>\n",
              "      <td>0.0</td>\n",
              "      <td>0.000000</td>\n",
              "      <td>0.415094</td>\n",
              "      <td>0.383562</td>\n",
              "      <td>0.5</td>\n",
              "      <td>0.267176</td>\n",
              "      <td>0.0</td>\n",
              "      <td>0.306452</td>\n",
              "      <td>0.5</td>\n",
              "      <td>0.75</td>\n",
              "      <td>0.666667</td>\n",
              "    </tr>\n",
              "    <tr>\n",
              "      <th>...</th>\n",
              "      <td>...</td>\n",
              "      <td>...</td>\n",
              "      <td>...</td>\n",
              "      <td>...</td>\n",
              "      <td>...</td>\n",
              "      <td>...</td>\n",
              "      <td>...</td>\n",
              "      <td>...</td>\n",
              "      <td>...</td>\n",
              "      <td>...</td>\n",
              "      <td>...</td>\n",
              "      <td>...</td>\n",
              "    </tr>\n",
              "    <tr>\n",
              "      <th>1020</th>\n",
              "      <td>0.625000</td>\n",
              "      <td>1.0</td>\n",
              "      <td>0.333333</td>\n",
              "      <td>0.433962</td>\n",
              "      <td>0.216895</td>\n",
              "      <td>0.5</td>\n",
              "      <td>0.709924</td>\n",
              "      <td>1.0</td>\n",
              "      <td>0.000000</td>\n",
              "      <td>1.0</td>\n",
              "      <td>0.00</td>\n",
              "      <td>0.666667</td>\n",
              "    </tr>\n",
              "    <tr>\n",
              "      <th>1021</th>\n",
              "      <td>0.645833</td>\n",
              "      <td>1.0</td>\n",
              "      <td>0.000000</td>\n",
              "      <td>0.292453</td>\n",
              "      <td>0.301370</td>\n",
              "      <td>0.0</td>\n",
              "      <td>0.534351</td>\n",
              "      <td>1.0</td>\n",
              "      <td>0.451613</td>\n",
              "      <td>0.5</td>\n",
              "      <td>0.25</td>\n",
              "      <td>1.000000</td>\n",
              "    </tr>\n",
              "    <tr>\n",
              "      <th>1022</th>\n",
              "      <td>0.375000</td>\n",
              "      <td>1.0</td>\n",
              "      <td>0.000000</td>\n",
              "      <td>0.150943</td>\n",
              "      <td>0.340183</td>\n",
              "      <td>0.0</td>\n",
              "      <td>0.358779</td>\n",
              "      <td>1.0</td>\n",
              "      <td>0.161290</td>\n",
              "      <td>0.5</td>\n",
              "      <td>0.25</td>\n",
              "      <td>0.666667</td>\n",
              "    </tr>\n",
              "    <tr>\n",
              "      <th>1023</th>\n",
              "      <td>0.437500</td>\n",
              "      <td>0.0</td>\n",
              "      <td>0.000000</td>\n",
              "      <td>0.150943</td>\n",
              "      <td>0.292237</td>\n",
              "      <td>0.0</td>\n",
              "      <td>0.671756</td>\n",
              "      <td>0.0</td>\n",
              "      <td>0.000000</td>\n",
              "      <td>1.0</td>\n",
              "      <td>0.00</td>\n",
              "      <td>0.666667</td>\n",
              "    </tr>\n",
              "    <tr>\n",
              "      <th>1024</th>\n",
              "      <td>0.520833</td>\n",
              "      <td>1.0</td>\n",
              "      <td>0.000000</td>\n",
              "      <td>0.245283</td>\n",
              "      <td>0.141553</td>\n",
              "      <td>0.5</td>\n",
              "      <td>0.320611</td>\n",
              "      <td>0.0</td>\n",
              "      <td>0.225806</td>\n",
              "      <td>0.5</td>\n",
              "      <td>0.25</td>\n",
              "      <td>1.000000</td>\n",
              "    </tr>\n",
              "  </tbody>\n",
              "</table>\n",
              "<p>1025 rows × 12 columns</p>\n",
              "</div>\n",
              "      <button class=\"colab-df-convert\" onclick=\"convertToInteractive('df-f63302eb-3724-4dbc-9812-68e26cc4bcc5')\"\n",
              "              title=\"Convert this dataframe to an interactive table.\"\n",
              "              style=\"display:none;\">\n",
              "        \n",
              "  <svg xmlns=\"http://www.w3.org/2000/svg\" height=\"24px\"viewBox=\"0 0 24 24\"\n",
              "       width=\"24px\">\n",
              "    <path d=\"M0 0h24v24H0V0z\" fill=\"none\"/>\n",
              "    <path d=\"M18.56 5.44l.94 2.06.94-2.06 2.06-.94-2.06-.94-.94-2.06-.94 2.06-2.06.94zm-11 1L8.5 8.5l.94-2.06 2.06-.94-2.06-.94L8.5 2.5l-.94 2.06-2.06.94zm10 10l.94 2.06.94-2.06 2.06-.94-2.06-.94-.94-2.06-.94 2.06-2.06.94z\"/><path d=\"M17.41 7.96l-1.37-1.37c-.4-.4-.92-.59-1.43-.59-.52 0-1.04.2-1.43.59L10.3 9.45l-7.72 7.72c-.78.78-.78 2.05 0 2.83L4 21.41c.39.39.9.59 1.41.59.51 0 1.02-.2 1.41-.59l7.78-7.78 2.81-2.81c.8-.78.8-2.07 0-2.86zM5.41 20L4 18.59l7.72-7.72 1.47 1.35L5.41 20z\"/>\n",
              "  </svg>\n",
              "      </button>\n",
              "      \n",
              "  <style>\n",
              "    .colab-df-container {\n",
              "      display:flex;\n",
              "      flex-wrap:wrap;\n",
              "      gap: 12px;\n",
              "    }\n",
              "\n",
              "    .colab-df-convert {\n",
              "      background-color: #E8F0FE;\n",
              "      border: none;\n",
              "      border-radius: 50%;\n",
              "      cursor: pointer;\n",
              "      display: none;\n",
              "      fill: #1967D2;\n",
              "      height: 32px;\n",
              "      padding: 0 0 0 0;\n",
              "      width: 32px;\n",
              "    }\n",
              "\n",
              "    .colab-df-convert:hover {\n",
              "      background-color: #E2EBFA;\n",
              "      box-shadow: 0px 1px 2px rgba(60, 64, 67, 0.3), 0px 1px 3px 1px rgba(60, 64, 67, 0.15);\n",
              "      fill: #174EA6;\n",
              "    }\n",
              "\n",
              "    [theme=dark] .colab-df-convert {\n",
              "      background-color: #3B4455;\n",
              "      fill: #D2E3FC;\n",
              "    }\n",
              "\n",
              "    [theme=dark] .colab-df-convert:hover {\n",
              "      background-color: #434B5C;\n",
              "      box-shadow: 0px 1px 3px 1px rgba(0, 0, 0, 0.15);\n",
              "      filter: drop-shadow(0px 1px 2px rgba(0, 0, 0, 0.3));\n",
              "      fill: #FFFFFF;\n",
              "    }\n",
              "  </style>\n",
              "\n",
              "      <script>\n",
              "        const buttonEl =\n",
              "          document.querySelector('#df-f63302eb-3724-4dbc-9812-68e26cc4bcc5 button.colab-df-convert');\n",
              "        buttonEl.style.display =\n",
              "          google.colab.kernel.accessAllowed ? 'block' : 'none';\n",
              "\n",
              "        async function convertToInteractive(key) {\n",
              "          const element = document.querySelector('#df-f63302eb-3724-4dbc-9812-68e26cc4bcc5');\n",
              "          const dataTable =\n",
              "            await google.colab.kernel.invokeFunction('convertToInteractive',\n",
              "                                                     [key], {});\n",
              "          if (!dataTable) return;\n",
              "\n",
              "          const docLinkHtml = 'Like what you see? Visit the ' +\n",
              "            '<a target=\"_blank\" href=https://colab.research.google.com/notebooks/data_table.ipynb>data table notebook</a>'\n",
              "            + ' to learn more about interactive tables.';\n",
              "          element.innerHTML = '';\n",
              "          dataTable['output_type'] = 'display_data';\n",
              "          await google.colab.output.renderOutput(dataTable, element);\n",
              "          const docLink = document.createElement('div');\n",
              "          docLink.innerHTML = docLinkHtml;\n",
              "          element.appendChild(docLink);\n",
              "        }\n",
              "      </script>\n",
              "    </div>\n",
              "  </div>\n",
              "  "
            ]
          },
          "metadata": {},
          "execution_count": 1487
        }
      ]
    },
    {
      "cell_type": "code",
      "source": [
        "acc1=[]\n",
        "p1=[]\n",
        "r1=[]\n",
        "f1=[]\n",
        "msc=[]\n",
        "model=XGBClassifier(max_depth=3,n_estimators=350,learning_rate=0.1,min_child_weight=3,colsample_bytree=0.2,reg_lambda=4)\n",
        "\n",
        "kf=KFold(n_splits=3,shuffle=False)\n",
        "\n",
        "for train_index, test_index in kf.split(X):\n",
        "  X_train, X_test = X.iloc[train_index], X.iloc[test_index]\n",
        "  y_train, y_test = y.iloc[train_index], y.iloc[test_index]\n",
        "\n",
        "  \n",
        "  model.fit(X_train,y_train)\n",
        "  y_pred = model.predict(X_test)\n",
        "\n",
        "  acc1.append(accuracy_score(y_test,y_pred))\n",
        "  p1.append(precision_score(y_test,y_pred))\n",
        "  r1.append(recall_score(y_test,y_pred))\n",
        "  f1.append(f1_score(y_test,y_pred))\n",
        "  print(classification_report(y_test,y_pred))\n",
        "print(\"acc:\",sum(acc1)*100/len(acc1))\n",
        "msc.extend((sum(acc1)*100/len(acc1),sum(p1)*100/len(p1),sum(r1)*100/len(r1),sum(f1)*100/len(f1)))\n",
        "print(msc)"
      ],
      "metadata": {
        "colab": {
          "base_uri": "https://localhost:8080/"
        },
        "id": "D-61cWfvZJG8",
        "outputId": "68662e29-e273-4aba-883a-ac509010bcc9"
      },
      "execution_count": null,
      "outputs": [
        {
          "output_type": "stream",
          "name": "stdout",
          "text": [
            "              precision    recall  f1-score   support\n",
            "\n",
            "           0       0.97      0.96      0.96       158\n",
            "           1       0.96      0.97      0.97       184\n",
            "\n",
            "    accuracy                           0.96       342\n",
            "   macro avg       0.97      0.96      0.96       342\n",
            "weighted avg       0.96      0.96      0.96       342\n",
            "\n",
            "              precision    recall  f1-score   support\n",
            "\n",
            "           0       0.94      0.96      0.95       170\n",
            "           1       0.96      0.94      0.95       172\n",
            "\n",
            "    accuracy                           0.95       342\n",
            "   macro avg       0.95      0.95      0.95       342\n",
            "weighted avg       0.95      0.95      0.95       342\n",
            "\n",
            "              precision    recall  f1-score   support\n",
            "\n",
            "           0       0.92      0.92      0.92       171\n",
            "           1       0.92      0.92      0.92       170\n",
            "\n",
            "    accuracy                           0.92       341\n",
            "   macro avg       0.92      0.92      0.92       341\n",
            "weighted avg       0.92      0.92      0.92       341\n",
            "\n",
            "acc: 94.5339072673538\n",
            "[94.5339072673538, 94.80994548356978, 94.41112036321101, 94.60519342872283]\n"
          ]
        }
      ]
    },
    {
      "cell_type": "markdown",
      "source": [
        "**Comparsion**"
      ],
      "metadata": {
        "id": "73EPhoR8b-f8"
      }
    },
    {
      "cell_type": "code",
      "source": [
        "head=[\"ACCURACY\",\"PRECISION\",\"RECALL\",\"F1\"]\n",
        "plt.figure(figsize=(5,5))\n",
        "plt.plot(head,hmsc,label=\"Default features\")\n",
        "plt.plot(head,msc,label=\"Changed features\")\n",
        "plt.title(\"feature selection\")\n",
        "plt.xlabel(\"PERFORMANCE METRICS\")\n",
        "plt.ylabel(\"SCORE\")\n",
        "plt.legend()\n",
        "plt.show()"
      ],
      "metadata": {
        "colab": {
          "base_uri": "https://localhost:8080/",
          "height": 350
        },
        "id": "fWh1kvBhb9RO",
        "outputId": "c680b183-3dca-466d-cf7f-b52f23128d95"
      },
      "execution_count": null,
      "outputs": [
        {
          "output_type": "display_data",
          "data": {
            "text/plain": [
              "<Figure size 360x360 with 1 Axes>"
            ],
            "image/png": "[encoded data removed]"
          },
          "metadata": {}
        }
      ]
    },
    {
      "cell_type": "markdown",
      "source": [
        "**LITTLE INCREASE PERFORMANCE DESPITE DROPPING A FEATURE**"
      ],
      "metadata": {
        "id": "ws4pP-9ThKxV"
      }
    },
    {
      "cell_type": "markdown",
      "source": [
        "**New Features for prediction**"
      ],
      "metadata": {
        "id": "b4u-KQEsaJWg"
      }
    },
    {
      "cell_type": "code",
      "source": [
        "y = data[\"target\"]\n",
        "X = data.drop(columns=['target','fbs'])\n",
        "cols=X.columns\n",
        "for col in cols:\n",
        "   X[col]=minmax_scale(X[col])\n"
      ],
      "metadata": {
        "id": "8nrf1qNBW3IS"
      },
      "execution_count": null,
      "outputs": []
    },
    {
      "cell_type": "markdown",
      "source": [
        "#**HYPER TUNNING OF PARARMETER**\n",
        "\n",
        "\n",
        "\n"
      ],
      "metadata": {
        "id": "T3h5ZjV2Nq8I"
      }
    },
    {
      "cell_type": "markdown",
      "source": [
        "##XG Boost"
      ],
      "metadata": {
        "id": "J3EsnPQqtY2G"
      }
    },
    {
      "cell_type": "code",
      "source": [
        "X_train, X_test, y_train, y_test = train_test_split(X, y, test_size=0.35, random_state =10)\n",
        "scaler = StandardScaler()\n",
        "X_train = scaler.fit_transform(X_train)\n",
        "X_test = scaler.transform(X_test)"
      ],
      "metadata": {
        "id": "B2FSpUBAoZpN"
      },
      "execution_count": null,
      "outputs": []
    },
    {
      "cell_type": "markdown",
      "source": [
        "**MAX DEPTH**"
      ],
      "metadata": {
        "id": "H30rjfAZpT8V"
      }
    },
    {
      "cell_type": "code",
      "source": [
        "trs=[]\n",
        "tes=[]\n",
        "values = [i for i in range(2, 11)]\n",
        "\n",
        "\n",
        "for i in values:\n",
        "\n",
        "\tmodel= XGBClassifier(max_depth=i)\n",
        "\n",
        "\tmodel.fit(X_train, y_train)\n",
        "\n",
        "\ttrain_yhat = model.predict(X_train)\n",
        "\ttrain_acc = accuracy_score(y_train, train_yhat)\n",
        "\ttrs.append(train_acc)\n",
        "\n",
        "\ttest_yhat = model.predict(X_test)\n",
        "\ttest_acc = accuracy_score(y_test, test_yhat)\n",
        "\ttes.append(test_acc)\n",
        "\n",
        "\tprint('>%d, train: %.3f, test: %.3f' % (i, train_acc, test_acc))\n",
        "plt.ylabel(\"ACCURACY\")\n",
        "plt.xlabel(\"Max Depth-RF\")\n",
        "plt.plot(values, trs, '-o', label='Train')\n",
        "plt.plot(values, tes, '-o', label='Test')\n",
        "plt.legend()\n",
        "plt.show()"
      ],
      "metadata": {
        "colab": {
          "base_uri": "https://localhost:8080/"
        },
        "id": "7tuoZ4_9oyd_",
        "outputId": "baa5061a-4c67-4cbe-b0f8-0cd8a381462f"
      },
      "execution_count": null,
      "outputs": [
        {
          "output_type": "stream",
          "name": "stdout",
          "text": [
            ">2, train: 0.937, test: 0.891\n",
            ">3, train: 0.986, test: 0.919\n",
            ">4, train: 1.000, test: 0.955\n",
            ">5, train: 1.000, test: 0.967\n",
            ">6, train: 1.000, test: 0.967\n",
            ">7, train: 1.000, test: 0.967\n",
            ">8, train: 1.000, test: 0.967\n",
            ">9, train: 1.000, test: 0.967\n",
            ">10, train: 1.000, test: 0.967\n"
          ]
        },
        {
          "output_type": "display_data",
          "data": {
            "text/plain": [
              "<Figure size 432x288 with 1 Axes>"
            ],
            "image/png": "[encoded data removed]"
          },
          "metadata": {}
        }
      ]
    },
    {
      "cell_type": "markdown",
      "source": [
        "**N-Estimators**"
      ],
      "metadata": {
        "id": "UvwfYFOFpxCH"
      }
    },
    {
      "cell_type": "code",
      "source": [
        "trs=[]\n",
        "tes=[]\n",
        "values = [i for i in range(50,1051,100)]\n",
        "\n",
        "\n",
        "for i in values:\n",
        "\n",
        "\tmodel= XGBClassifier(max_depth=3,n_estimators=i)\n",
        "\n",
        "\tmodel.fit(X_train, y_train)\n",
        "\n",
        "\ttrain_yhat = model.predict(X_train)\n",
        "\ttrain_acc = accuracy_score(y_train, train_yhat)\n",
        "\ttrs.append(train_acc)\n",
        "\n",
        "\ttest_yhat = model.predict(X_test)\n",
        "\ttest_acc = accuracy_score(y_test, test_yhat)\n",
        "\ttes.append(test_acc)\n",
        "\n",
        "\tprint('>%d, train: %.3f, test: %.3f' % (i, train_acc, test_acc))\n",
        "plt.ylabel(\"ACCURACY\")\n",
        "plt.xlabel(\"Max Depth-RF\")\n",
        "plt.plot(values, trs, '-o', label='Train')\n",
        "plt.plot(values, tes, '-o', label='Test')\n",
        "plt.legend()\n",
        "plt.show()"
      ],
      "metadata": {
        "colab": {
          "base_uri": "https://localhost:8080/"
        },
        "id": "omiRPNG0pwhM",
        "outputId": "06e67062-ed33-4bcd-9c13-e32bd9d97b4b"
      },
      "execution_count": null,
      "outputs": [
        {
          "output_type": "stream",
          "name": "stdout",
          "text": [
            ">50, train: 0.961, test: 0.914\n",
            ">150, train: 0.995, test: 0.936\n",
            ">250, train: 1.000, test: 0.955\n",
            ">350, train: 1.000, test: 0.955\n",
            ">450, train: 1.000, test: 0.955\n",
            ">550, train: 1.000, test: 0.955\n",
            ">650, train: 1.000, test: 0.947\n",
            ">750, train: 1.000, test: 0.947\n",
            ">850, train: 1.000, test: 0.947\n",
            ">950, train: 1.000, test: 0.947\n",
            ">1050, train: 1.000, test: 0.947\n"
          ]
        },
        {
          "output_type": "display_data",
          "data": {
            "text/plain": [
              "<Figure size 432x288 with 1 Axes>"
            ],
            "image/png": "[encoded data removed]"
          },
          "metadata": {}
        }
      ]
    },
    {
      "cell_type": "markdown",
      "source": [
        "**LEARNING RATE**"
      ],
      "metadata": {
        "id": "OgcY8LiHqgfb"
      }
    },
    {
      "cell_type": "code",
      "source": [
        "trs=[]\n",
        "tes=[]\n",
        "values=[i for  i in np.arange(0.01,0.15,0.01)]\n",
        "\n",
        "\n",
        "for i in values:\n",
        "\n",
        "\tmodel= XGBClassifier(max_depth=3,n_estimators=350,learning_rate=i)\n",
        "\n",
        "\tmodel.fit(X_train, y_train)\n",
        "\n",
        "\ttrain_yhat = model.predict(X_train)\n",
        "\ttrain_acc = accuracy_score(y_train, train_yhat)\n",
        "\ttrs.append(train_acc)\n",
        "\n",
        "\ttest_yhat = model.predict(X_test)\n",
        "\ttest_acc = accuracy_score(y_test, test_yhat)\n",
        "\ttes.append(test_acc)\n",
        "\n",
        "\tprint('>%.2f, train: %.3f, test: %.3f' % (i, train_acc, test_acc))\n",
        "plt.ylabel(\"ACCURACY\")\n",
        "plt.xlabel(\"Learning Rate\")\n",
        "plt.plot(values, trs, '-o', label='Train')\n",
        "plt.plot(values, tes, '-o', label='Test')\n",
        "plt.legend()\n",
        "plt.show()"
      ],
      "metadata": {
        "colab": {
          "base_uri": "https://localhost:8080/"
        },
        "id": "-VJWqvdYqjVO",
        "outputId": "0bfd72a1-0d97-4788-efa1-fff555bc9aec"
      },
      "execution_count": null,
      "outputs": [
        {
          "output_type": "stream",
          "name": "stdout",
          "text": [
            ">0.01, train: 0.949, test: 0.894\n",
            ">0.02, train: 0.974, test: 0.905\n",
            ">0.03, train: 0.986, test: 0.919\n",
            ">0.04, train: 0.995, test: 0.936\n",
            ">0.05, train: 0.997, test: 0.944\n",
            ">0.06, train: 0.998, test: 0.950\n",
            ">0.07, train: 0.998, test: 0.950\n",
            ">0.08, train: 1.000, test: 0.955\n",
            ">0.09, train: 1.000, test: 0.955\n",
            ">0.10, train: 1.000, test: 0.955\n",
            ">0.11, train: 1.000, test: 0.955\n",
            ">0.12, train: 1.000, test: 0.955\n",
            ">0.13, train: 1.000, test: 0.955\n",
            ">0.14, train: 1.000, test: 0.947\n"
          ]
        },
        {
          "output_type": "display_data",
          "data": {
            "text/plain": [
              "<Figure size 432x288 with 1 Axes>"
            ],
            "image/png": "[encoded data removed]"
          },
          "metadata": {}
        }
      ]
    },
    {
      "cell_type": "markdown",
      "source": [
        "**MIN CHILD WEIGHT**"
      ],
      "metadata": {
        "id": "A8HuqUks2jzv"
      }
    },
    {
      "cell_type": "code",
      "source": [
        "trs=[]\n",
        "tes=[]\n",
        "values=[i for  i in np.arange(0,10,1)]\n",
        "\n",
        "\n",
        "for i in values:\n",
        "\n",
        "\tmodel= XGBClassifier(max_depth=3,n_estimators=350,learning_rate=0.1,min_child_weight=i)\n",
        "\n",
        "\tmodel.fit(X_train, y_train)\n",
        "\n",
        "\ttrain_yhat = model.predict(X_train)\n",
        "\ttrain_acc = accuracy_score(y_train, train_yhat)\n",
        "\ttrs.append(train_acc)\n",
        "\n",
        "\ttest_yhat = model.predict(X_test)\n",
        "\ttest_acc = accuracy_score(y_test, test_yhat)\n",
        "\ttes.append(test_acc)\n",
        "\n",
        "\tprint('>%d, train: %.3f, test: %.3f' % (i, train_acc, test_acc))\n",
        "plt.ylabel(\"ACCURACY\")\n",
        "plt.xlabel(\"Min Child Weight\")\n",
        "plt.plot(values, trs, '-o', label='Train')\n",
        "plt.plot(values, tes, '-o', label='Test')\n",
        "plt.legend()\n",
        "plt.show()"
      ],
      "metadata": {
        "colab": {
          "base_uri": "https://localhost:8080/"
        },
        "id": "1tZ5JBjj2jXN",
        "outputId": "e64dd4c7-94ce-4b61-e178-468e43698296"
      },
      "execution_count": null,
      "outputs": [
        {
          "output_type": "stream",
          "name": "stdout",
          "text": [
            ">0, train: 1.000, test: 0.955\n",
            ">1, train: 1.000, test: 0.955\n",
            ">2, train: 1.000, test: 0.955\n",
            ">3, train: 0.998, test: 0.942\n",
            ">4, train: 0.997, test: 0.936\n",
            ">5, train: 0.998, test: 0.950\n",
            ">6, train: 0.995, test: 0.939\n",
            ">7, train: 0.995, test: 0.942\n",
            ">8, train: 0.989, test: 0.936\n",
            ">9, train: 0.974, test: 0.922\n"
          ]
        },
        {
          "output_type": "display_data",
          "data": {
            "text/plain": [
              "<Figure size 432x288 with 1 Axes>"
            ],
            "image/png": "[encoded data removed]"
          },
          "metadata": {}
        }
      ]
    },
    {
      "cell_type": "markdown",
      "source": [
        "**Col sample by tree**"
      ],
      "metadata": {
        "id": "BTMaYO8zCM9A"
      }
    },
    {
      "cell_type": "code",
      "source": [
        "trs=[]\n",
        "tes=[]\n",
        "values=[i for  i in np.arange(0,1,0.1)]\n",
        "\n",
        "\n",
        "for i in values:\n",
        "\n",
        "\tmodel= XGBClassifier(max_depth=3,n_estimators=350,learning_rate=0.1,min_child_weight=3,colsample_bytree=i)\n",
        "\n",
        "\tmodel.fit(X_train, y_train)\n",
        "\n",
        "\ttrain_yhat = model.predict(X_train)\n",
        "\ttrain_acc = accuracy_score(y_train, train_yhat)\n",
        "\ttrs.append(train_acc)\n",
        "\n",
        "\ttest_yhat = model.predict(X_test)\n",
        "\ttest_acc = accuracy_score(y_test, test_yhat)\n",
        "\ttes.append(test_acc)\n",
        "\n",
        "\tprint('>%.2f, train: %.3f, test: %.3f' % (i, train_acc, test_acc))\n",
        "plt.ylabel(\"ACCURACY\")\n",
        "plt.xlabel(\"col sample by tree\")\n",
        "plt.plot(values, trs, '-o', label='Train')\n",
        "plt.plot(values, tes, '-o', label='Test')\n",
        "plt.legend()\n",
        "plt.show()"
      ],
      "metadata": {
        "colab": {
          "base_uri": "https://localhost:8080/"
        },
        "id": "HMxy-4m0CYSn",
        "outputId": "9a47f0ad-7bb2-4538-f065-667670cdd152"
      },
      "execution_count": null,
      "outputs": [
        {
          "output_type": "stream",
          "name": "stdout",
          "text": [
            ">0.00, train: 0.959, test: 0.925\n",
            ">0.10, train: 0.959, test: 0.925\n",
            ">0.20, train: 0.995, test: 0.950\n",
            ">0.30, train: 0.997, test: 0.944\n",
            ">0.40, train: 0.998, test: 0.950\n",
            ">0.50, train: 0.998, test: 0.950\n",
            ">0.60, train: 0.998, test: 0.950\n",
            ">0.70, train: 0.998, test: 0.950\n",
            ">0.80, train: 0.998, test: 0.950\n",
            ">0.90, train: 0.998, test: 0.942\n"
          ]
        },
        {
          "output_type": "display_data",
          "data": {
            "text/plain": [
              "<Figure size 432x288 with 1 Axes>"
            ],
            "image/png": "[encoded data removed]"
          },
          "metadata": {}
        }
      ]
    },
    {
      "cell_type": "markdown",
      "source": [
        "**Lambda**"
      ],
      "metadata": {
        "id": "aNyKkbS5DEIK"
      }
    },
    {
      "cell_type": "code",
      "source": [
        "trs=[]\n",
        "tes=[]\n",
        "values=[i for  i in np.arange(0,10,1)]\n",
        "\n",
        "\n",
        "for i in values:\n",
        "\n",
        "\tmodel= XGBClassifier(max_depth=3,n_estimators=350,learning_rate=0.1,min_child_weight=3,colsample_bytree=0.2,reg_lambda=i)\n",
        "\n",
        "\tmodel.fit(X_train, y_train)\n",
        "\n",
        "\ttrain_yhat = model.predict(X_train)\n",
        "\ttrain_acc = accuracy_score(y_train, train_yhat)\n",
        "\ttrs.append(train_acc)\n",
        "\n",
        "\ttest_yhat = model.predict(X_test)\n",
        "\ttest_acc = accuracy_score(y_test, test_yhat)\n",
        "\ttes.append(test_acc)\n",
        "\n",
        "\tprint('>%.2f, train: %.3f, test: %.3f' % (i, train_acc, test_acc))\n",
        "plt.ylabel(\"ACCURACY\")\n",
        "plt.xlabel(\"col sample by tree\")\n",
        "plt.plot(values, trs, '-o', label='Train')\n",
        "plt.plot(values, tes, '-o', label='Test')\n",
        "plt.legend()\n",
        "plt.show()"
      ],
      "metadata": {
        "colab": {
          "base_uri": "https://localhost:8080/"
        },
        "id": "MKEwBgqpC7f7",
        "outputId": "12986954-28ba-436a-c22c-e9cc14e5a5ed"
      },
      "execution_count": null,
      "outputs": [
        {
          "output_type": "stream",
          "name": "stdout",
          "text": [
            ">0.00, train: 0.995, test: 0.950\n",
            ">1.00, train: 0.995, test: 0.950\n",
            ">2.00, train: 0.992, test: 0.947\n",
            ">3.00, train: 0.989, test: 0.944\n",
            ">4.00, train: 0.985, test: 0.942\n",
            ">5.00, train: 0.985, test: 0.942\n",
            ">6.00, train: 0.982, test: 0.939\n",
            ">7.00, train: 0.979, test: 0.933\n",
            ">8.00, train: 0.982, test: 0.939\n",
            ">9.00, train: 0.979, test: 0.933\n"
          ]
        },
        {
          "output_type": "display_data",
          "data": {
            "text/plain": [
              "<Figure size 432x288 with 1 Axes>"
            ],
            "image/png": "[encoded data removed]"
          },
          "metadata": {}
        }
      ]
    },
    {
      "cell_type": "markdown",
      "source": [
        "#**COMPARSION BETWEEN HYPERTUNED AND DEFAULT XG BOOSTING**"
      ],
      "metadata": {
        "id": "gSm2clW_rF_5"
      }
    },
    {
      "cell_type": "markdown",
      "source": [
        "##**HOLD OUT**"
      ],
      "metadata": {
        "id": "Rm13TxwUZ3Gr"
      }
    },
    {
      "cell_type": "markdown",
      "source": [
        "**DEFAULT**"
      ],
      "metadata": {
        "id": "TxIMmfysrF_6"
      }
    },
    {
      "cell_type": "code",
      "source": [
        "X_train, X_test, y_train, y_test = train_test_split(X, y, test_size=0.35, random_state =10)"
      ],
      "metadata": {
        "id": "ZiOX64aWUlu3"
      },
      "execution_count": null,
      "outputs": []
    },
    {
      "cell_type": "code",
      "source": [
        "fmodel=XGBClassifier()\n",
        "fmodel.fit(X_train,y_train)\n",
        "y_pred=fmodel.predict(X_test)"
      ],
      "metadata": {
        "id": "CEIZI1cKUlu3"
      },
      "execution_count": null,
      "outputs": []
    },
    {
      "cell_type": "code",
      "source": [
        "msc=[]\n",
        "print(\"For default XG BOOST model:\")\n",
        "print(\"ACCURACY:\",accuracy_score(y_test,y_pred)*100)\n",
        "print(\"PRECISION:\",precision_score(y_test,y_pred)*100)\n",
        "print(\"RECALL:\",recall_score(y_test,y_pred,)*100)\n",
        "print(\"F1:\",f1_score(y_test,y_pred,)*100)\n",
        "msc.extend((accuracy_score(y_test,y_pred)*100,precision_score(y_test,y_pred)*100,recall_score(y_test,y_pred,)*100,f1_score(y_test,y_pred,)*100))"
      ],
      "metadata": {
        "colab": {
          "base_uri": "https://localhost:8080/"
        },
        "outputId": "c672a0e7-26ba-4a6a-a861-c361da1d8b2c",
        "id": "5w4A7WF59CQ7"
      },
      "execution_count": null,
      "outputs": [
        {
          "output_type": "stream",
          "name": "stdout",
          "text": [
            "For default XG BOOST model:\n",
            "ACCURACY: 91.92200557103064\n",
            "PRECISION: 92.26519337016575\n",
            "RECALL: 91.75824175824175\n",
            "F1: 92.01101928374656\n"
          ]
        }
      ]
    },
    {
      "cell_type": "markdown",
      "source": [
        "**HYPERTUNED**"
      ],
      "metadata": {
        "id": "HemoRBOvX4A6"
      }
    },
    {
      "cell_type": "code",
      "source": [
        "X_train, X_test, y_train, y_test = train_test_split(X, y, test_size=0.35, random_state =10)\n",
        "fmodel=XGBClassifier(max_depth=3,n_estimators=350,learning_rate=0.1,min_child_weight=3,colsample_bytree=0.2,reg_lambda=4)\n",
        "fmodel.fit(X_train,y_train)"
      ],
      "metadata": {
        "colab": {
          "base_uri": "https://localhost:8080/"
        },
        "outputId": "cf55fc29-486b-4eff-bb15-0ab495fca4c4",
        "id": "NhppbvhPUwuB"
      },
      "execution_count": null,
      "outputs": [
        {
          "output_type": "execute_result",
          "data": {
            "text/plain": [
              "XGBClassifier(colsample_bytree=0.2, min_child_weight=3, n_estimators=350,\n",
              "              reg_lambda=4)"
            ]
          },
          "metadata": {},
          "execution_count": 1460
        }
      ]
    },
    {
      "cell_type": "code",
      "source": [
        "hmsc=[]\n",
        "y_pred=fmodel.predict(X_test)\n",
        "print(\"For hyper tuned XG BOOST model\")\n",
        "print(\"Testing dataset:\")\n",
        "print(\"ACCURACY:\",accuracy_score(y_test,y_pred)*100)\n",
        "print(\"PRECISION:\",precision_score(y_test,y_pred)*100)\n",
        "print(\"RECALL:\",recall_score(y_test,y_pred,)*100)\n",
        "print(\"F1:\",f1_score(y_test,y_pred,)*100)\n",
        "hmsc.extend((accuracy_score(y_test,y_pred)*100,precision_score(y_test,y_pred)*100,recall_score(y_test,y_pred,)*100,f1_score(y_test,y_pred,)*100))"
      ],
      "metadata": {
        "colab": {
          "base_uri": "https://localhost:8080/"
        },
        "outputId": "b1cd0822-5ea1-4475-cb29-a570a2c825b1",
        "id": "tgEQ13BxUwuB"
      },
      "execution_count": null,
      "outputs": [
        {
          "output_type": "stream",
          "name": "stdout",
          "text": [
            "For hyper tuned XG BOOST model\n",
            "Testing dataset:\n",
            "ACCURACY: 94.15041782729804\n",
            "PRECISION: 94.97206703910615\n",
            "RECALL: 93.4065934065934\n",
            "F1: 94.18282548476455\n"
          ]
        }
      ]
    },
    {
      "cell_type": "markdown",
      "source": [
        "**Comparsion**"
      ],
      "metadata": {
        "id": "u8v72niXY3Du"
      }
    },
    {
      "cell_type": "code",
      "source": [
        "head=[\"ACCURACY\",\"PRECISION\",\"RECALL\",\"F1\"]\n",
        "ind= np.arange(len(head))\n",
        "plt.figure(figsize=(15,15))\n",
        "plt.bar(ind-0.2,hmsc,0.4,label=\"Hypertuned\")\n",
        "plt.bar(ind+0.2,msc,0.4,label=\"Default\")\n",
        "plt.title(\"HYPERTUNING OF XG BOOST\")\n",
        "plt.xlabel(\"PERFORMANCE METRICS\")\n",
        "plt.xticks(ind,head)\n",
        "plt.ylabel(\"SCORE\")\n",
        "plt.legend()\n",
        "plt.show()"
      ],
      "metadata": {
        "colab": {
          "base_uri": "https://localhost:8080/"
        },
        "id": "Gldi-x30Y5mq",
        "outputId": "0116c4ea-41ee-4048-ee83-f8d841191242"
      },
      "execution_count": null,
      "outputs": [
        {
          "output_type": "display_data",
          "data": {
            "text/plain": [
              "<Figure size 1080x1080 with 1 Axes>"
            ],
            "image/png": "[encoded data removed]"
          },
          "metadata": {}
        }
      ]
    },
    {
      "cell_type": "markdown",
      "source": [
        "##**KFOLD**"
      ],
      "metadata": {
        "id": "tQlBBE0JYMdX"
      }
    },
    {
      "cell_type": "markdown",
      "source": [
        "**DEFAULT-K FOLD**"
      ],
      "metadata": {
        "id": "1HozVQ8hYBnp"
      }
    },
    {
      "cell_type": "code",
      "source": [
        "acc2=[]\n",
        "dms=[]\n",
        "p1=[]\n",
        "r1=[]\n",
        "f1=[]\n",
        "\n",
        "\n",
        "kf=KFold(n_splits=3)\n",
        "\n",
        "for train_index, test_index in kf.split(X):\n",
        "  X_train, X_test = X.iloc[train_index], X.iloc[test_index]\n",
        "  y_train, y_test = y.iloc[train_index], y.iloc[test_index]\n",
        "\n",
        "  \n",
        "  xgb.fit(X_train,y_train)\n",
        "  y_pred = xgb.predict(X_test)\n",
        "  acc2.append(accuracy_score(y_test,y_pred))\n",
        "  p1.append(precision_score(y_test,y_pred))\n",
        "  r1.append(recall_score(y_test,y_pred))\n",
        "  f1.append(f1_score(y_test,y_pred))\n",
        "  print(classification_report(y_test,y_pred))\n",
        "print(\"acc:\",sum(acc2)*100/len(acc2))\n",
        "dms.extend((sum(acc2)*100/len(acc2),sum(p1)*100/len(p1),sum(r1)*100/len(r1),sum(f1)*100/len(f1)))\n",
        "    "
      ],
      "metadata": {
        "colab": {
          "base_uri": "https://localhost:8080/"
        },
        "outputId": "e058f222-fb0d-4686-8b67-5f5636db2913",
        "id": "N2ErfIhrrF_7"
      },
      "execution_count": null,
      "outputs": [
        {
          "output_type": "stream",
          "name": "stdout",
          "text": [
            "              precision    recall  f1-score   support\n",
            "\n",
            "           0       0.95      0.97      0.96       158\n",
            "           1       0.97      0.96      0.96       184\n",
            "\n",
            "    accuracy                           0.96       342\n",
            "   macro avg       0.96      0.96      0.96       342\n",
            "weighted avg       0.96      0.96      0.96       342\n",
            "\n",
            "              precision    recall  f1-score   support\n",
            "\n",
            "           0       0.96      0.91      0.93       170\n",
            "           1       0.91      0.96      0.93       172\n",
            "\n",
            "    accuracy                           0.93       342\n",
            "   macro avg       0.93      0.93      0.93       342\n",
            "weighted avg       0.93      0.93      0.93       342\n",
            "\n",
            "              precision    recall  f1-score   support\n",
            "\n",
            "           0       0.92      0.93      0.93       171\n",
            "           1       0.93      0.92      0.93       170\n",
            "\n",
            "    accuracy                           0.93       341\n",
            "   macro avg       0.93      0.93      0.93       341\n",
            "weighted avg       0.93      0.93      0.93       341\n",
            "\n",
            "acc: 94.04743530380203\n"
          ]
        }
      ]
    },
    {
      "cell_type": "markdown",
      "source": [
        "**HYPERTUNED K-FOLD**"
      ],
      "metadata": {
        "id": "E6pkxAxtrF_5"
      }
    },
    {
      "cell_type": "code",
      "source": [
        "acc1=[]\n",
        "p1=[]\n",
        "r1=[]\n",
        "f1=[]\n",
        "hmsc=[]\n",
        "model=XGBClassifier(max_depth=3,n_estimators=350,learning_rate=0.1,min_child_weight=3,colsample_bytree=0.2,reg_lambda=4)\n",
        "\n",
        "kf=KFold(n_splits=3,shuffle=True,random_state=10)\n",
        "\n",
        "for train_index, test_index in kf.split(X):\n",
        "  X_train, X_test = X.iloc[train_index], X.iloc[test_index]\n",
        "  y_train, y_test = y.iloc[train_index], y.iloc[test_index]\n",
        "\n",
        "  \n",
        "  model.fit(X_train,y_train)\n",
        "  y_pred = model.predict(X_test)\n",
        "\n",
        "  acc1.append(accuracy_score(y_test,y_pred))\n",
        "  p1.append(precision_score(y_test,y_pred))\n",
        "  r1.append(recall_score(y_test,y_pred))\n",
        "  f1.append(f1_score(y_test,y_pred))\n",
        "  print(classification_report(y_test,y_pred))\n",
        "print(\"acc:\",sum(acc1)*100/len(acc1))\n",
        "hmsc.extend((sum(acc1)*100/len(acc1),sum(p1)*100/len(p1),sum(r1)*100/len(r1),sum(f1)*100/len(f1)))"
      ],
      "metadata": {
        "colab": {
          "base_uri": "https://localhost:8080/"
        },
        "outputId": "6e6ca59a-0203-44d5-8070-ac8f8d9c8ab6",
        "id": "_Min0KZFrF_6"
      },
      "execution_count": null,
      "outputs": [
        {
          "output_type": "stream",
          "name": "stdout",
          "text": [
            "              precision    recall  f1-score   support\n",
            "\n",
            "           0       0.93      0.95      0.94       167\n",
            "           1       0.95      0.93      0.94       175\n",
            "\n",
            "    accuracy                           0.94       342\n",
            "   macro avg       0.94      0.94      0.94       342\n",
            "weighted avg       0.94      0.94      0.94       342\n",
            "\n",
            "              precision    recall  f1-score   support\n",
            "\n",
            "           0       0.95      0.94      0.94       171\n",
            "           1       0.94      0.95      0.94       171\n",
            "\n",
            "    accuracy                           0.94       342\n",
            "   macro avg       0.94      0.94      0.94       342\n",
            "weighted avg       0.94      0.94      0.94       342\n",
            "\n",
            "              precision    recall  f1-score   support\n",
            "\n",
            "           0       0.96      0.95      0.96       161\n",
            "           1       0.96      0.97      0.96       180\n",
            "\n",
            "    accuracy                           0.96       341\n",
            "   macro avg       0.96      0.96      0.96       341\n",
            "weighted avg       0.96      0.96      0.96       341\n",
            "\n",
            "acc: 94.73284057324805\n"
          ]
        }
      ]
    },
    {
      "cell_type": "code",
      "source": [
        "head=[\"ACCURACY\",\"PRECISION\",\"RECALL\",\"F1\"]\n",
        "ind= np.arange(len(head))\n",
        "plt.figure(figsize=(15,15))\n",
        "plt.bar(ind-0.2,hmsc,0.4,label=\"Hypertuned\")\n",
        "plt.bar(ind+0.2,dms,0.4,label=\"Default\")\n",
        "plt.title(\"HYPERTUNING OF XG BOOST\")\n",
        "plt.xlabel(\"PERFORMANCE METRICS\")\n",
        "plt.xticks(ind,head)\n",
        "plt.ylabel(\"SCORE\")\n",
        "plt.legend()\n",
        "plt.show()"
      ],
      "metadata": {
        "colab": {
          "base_uri": "https://localhost:8080/",
          "height": 893
        },
        "outputId": "cd1cabc1-9c9c-4958-d6b3-29d54087a8b4",
        "id": "VOm3HboRrF_7"
      },
      "execution_count": null,
      "outputs": [
        {
          "output_type": "display_data",
          "data": {
            "text/plain": [
              "<Figure size 1080x1080 with 1 Axes>"
            ],
            "image/png": "[encoded data removed]"
          },
          "metadata": {}
        }
      ]
    },
    {
      "cell_type": "markdown",
      "source": [
        "#**Checking overfitting**"
      ],
      "metadata": {
        "id": "NcuF-EU0T_iX"
      }
    },
    {
      "cell_type": "code",
      "source": [
        "y = data[\"target\"]\n",
        "new_x = data.drop(columns=['target','fbs'],axis=1)\n",
        "cols=new_x.columns\n",
        "for col in cols:\n",
        "   new_x[col]=minmax_scale(new_x[col])"
      ],
      "metadata": {
        "id": "cZzL3yq_hYWv"
      },
      "execution_count": null,
      "outputs": []
    },
    {
      "cell_type": "code",
      "source": [
        "X_train, X_test, y_train, y_test = train_test_split(new_x, y, test_size=0.35, random_state =10)\n",
        "fmodel=XGBClassifier(max_depth=3,n_estimators=350,learning_rate=0.1,min_child_weight=3,colsample_bytree=0.2,reg_lambda=4)\n",
        "fmodel.fit(X_train,y_train)"
      ],
      "metadata": {
        "colab": {
          "base_uri": "https://localhost:8080/"
        },
        "id": "B2jAVCbki7Br",
        "outputId": "6181de47-6bee-448e-bfc8-d9586944b0cf"
      },
      "execution_count": null,
      "outputs": [
        {
          "output_type": "execute_result",
          "data": {
            "text/plain": [
              "XGBClassifier(colsample_bytree=0.2, min_child_weight=3, n_estimators=350,\n",
              "              reg_lambda=4)"
            ]
          },
          "metadata": {},
          "execution_count": 1467
        }
      ]
    },
    {
      "cell_type": "code",
      "source": [
        "y_pred=fmodel.predict(X_test)\n",
        "print(\"For hyper tuned XG BOOST model\")\n",
        "print(\"Testing dataset:\")\n",
        "print(\"ACCURACY:\",accuracy_score(y_test,y_pred)*100)\n",
        "print(\"PRECISION:\",precision_score(y_test,y_pred)*100)\n",
        "print(\"RECALL:\",recall_score(y_test,y_pred,)*100)\n",
        "print(\"F1:\",f1_score(y_test,y_pred,)*100)"
      ],
      "metadata": {
        "colab": {
          "base_uri": "https://localhost:8080/"
        },
        "outputId": "8e1af25a-d26d-4e82-e152-f54d3565c64e",
        "id": "eSR44ZdHZJG9"
      },
      "execution_count": null,
      "outputs": [
        {
          "output_type": "stream",
          "name": "stdout",
          "text": [
            "For hyper tuned XG BOOST model\n",
            "Testing dataset:\n",
            "ACCURACY: 94.15041782729804\n",
            "PRECISION: 94.97206703910615\n",
            "RECALL: 93.4065934065934\n",
            "F1: 94.18282548476455\n"
          ]
        }
      ]
    },
    {
      "cell_type": "code",
      "source": [
        "y_pred=fmodel.predict(X_train)\n",
        "print(\"For hyper tuned XG BOOST model\")\n",
        "print(\"Training dataset:\")\n",
        "print(\"ACCURACY:\",accuracy_score(y_train,y_pred)*100)\n",
        "print(\"PRECISION:\",precision_score(y_train,y_pred)*100)\n",
        "print(\"RECALL:\",recall_score(y_train,y_pred,)*100)\n",
        "print(\"F1:\",f1_score(y_train,y_pred,)*100)"
      ],
      "metadata": {
        "colab": {
          "base_uri": "https://localhost:8080/"
        },
        "id": "f6lCi6LrgVMQ",
        "outputId": "eb1741d7-e020-4041-bc52-051f6dceb721"
      },
      "execution_count": null,
      "outputs": [
        {
          "output_type": "stream",
          "name": "stdout",
          "text": [
            "For hyper tuned XG BOOST model\n",
            "Training dataset:\n",
            "ACCURACY: 98.49849849849849\n",
            "PRECISION: 99.11764705882354\n",
            "RECALL: 97.96511627906976\n",
            "F1: 98.53801169590642\n"
          ]
        }
      ]
    },
    {
      "cell_type": "markdown",
      "source": [
        "#**Prediction and final model**"
      ],
      "metadata": {
        "id": "qhh_aCf2Ipaj"
      }
    },
    {
      "cell_type": "code",
      "source": [
        "y = data[\"target\"]\n",
        "X= data.drop(['target','fbs'],axis=1)\n",
        "X_train, X_test, y_train, y_test = train_test_split(X, y, test_size=0.35, random_state =8,)\n",
        "fmodel=XGBClassifier(max_depth=3,n_estimators=350,learning_rate=0.1,min_child_weight=3,colsample_bytree=0.2,reg_lambda=4)\n",
        "fmodel.fit(X_train,y_train)\n"
      ],
      "metadata": {
        "colab": {
          "base_uri": "https://localhost:8080/"
        },
        "id": "EeBWmVGUjWMX",
        "outputId": "03dd2673-42a9-4617-a454-0856c6221d19"
      },
      "execution_count": null,
      "outputs": [
        {
          "output_type": "execute_result",
          "data": {
            "text/plain": [
              "XGBClassifier(colsample_bytree=0.2, min_child_weight=3, n_estimators=350,\n",
              "              reg_lambda=4)"
            ]
          },
          "metadata": {},
          "execution_count": 1470
        }
      ]
    },
    {
      "cell_type": "markdown",
      "source": [
        "> **Attribute Information**\n",
        "> * Age (age in years)\n",
        "> * Sex (1 = male; 0 = female)\n",
        "> * CP (chest pain type)\n",
        "> * TRESTBPS (resting blood pressure (in mm Hg on admission to the hospital))\n",
        "> * CHOL (serum cholestoral in mg/dl)\n",
        "> * RESTECH (resting electrocardiographic results)\n",
        "> * THALACH (maximum heart rate achieved)\n",
        "> * EXANG (exercise induced angina (1 = yes; 0 = no))\n",
        "> * OLDPEAK (ST depression induced by exercise relative to rest)\n",
        "> * SLOPE (the slope of the peak exercise ST segment)\n",
        "> * CA (number of major vessels (0-3) colored by flourosopy)\n",
        "> * THAL (3 = normal; 6 = fixed defect; 7 = reversable defect)\n"
      ],
      "metadata": {
        "id": "ItyVOA_DJJeJ"
      }
    },
    {
      "cell_type": "code",
      "source": [
        "#input the value in order as shown above all can be input in form of interger values\n",
        "sample =[[52,1,0,125,212,1,168,0,1,2,2,3]]\n",
        "out1= pd.DataFrame(sample, columns = ['age', 'sex', 'cp', 'trestbps', 'chol', 'restecg', 'thalach', 'exang', 'oldpeak', 'slope', 'ca', 'thal'])\n",
        "y_pred=fmodel.predict(out1)\n",
        "if(y_pred==1):\n",
        "  print(\"RISK OF HEART DISEASE\")\n",
        "else:\n",
        "  print(\"NO RISK OF HEART DISEASE\")"
      ],
      "metadata": {
        "colab": {
          "base_uri": "https://localhost:8080/"
        },
        "id": "lFS-Pl6rixGH",
        "outputId": "8e5e55af-3ecb-4a9a-a8ca-130c8f0f59ea"
      },
      "execution_count": null,
      "outputs": [
        {
          "output_type": "stream",
          "name": "stdout",
          "text": [
            "NO RISK OF HEART DISEASE\n"
          ]
        }
      ]
    }
  ],
  "metadata": {
    "kernelspec": {
      "display_name": "Python 3",
      "language": "python",
      "name": "python3"
    },
    "language_info": {
      "codemirror_mode": {
        "name": "ipython",
        "version": 3
      },
      "file_extension": ".py",
      "mimetype": "text/x-python",
      "name": "python",
      "nbconvert_exporter": "python",
      "pygments_lexer": "ipython3",
      "version": "3.7.6"
    },
    "papermill": {
      "duration": 41.224233,
      "end_time": "2020-12-11T03:32:27.037873",
      "environment_variables": {},
      "exception": null,
      "input_path": "__notebook__.ipynb",
      "output_path": "__notebook__.ipynb",
      "parameters": {},
      "start_time": "2020-12-11T03:31:45.813640",
      "version": "2.1.0"
    },
    "colab": {
      "name": "main project.ipynb",
      "provenance": [],
      "collapsed_sections": [
        "T3h5ZjV2Nq8I"
      ]
    }
  },
  "nbformat": 4,
  "nbformat_minor": 0
}